{
 "cells": [
  {
   "cell_type": "markdown",
   "metadata": {},
   "source": [
    "# Huckleberry Labs Interview\n",
    "\n",
    "Prompt:\n",
    "\n",
    "```\n",
    "1. Read the data\n",
    "\n",
    "2. Prepare the data for modeling the value in the column named \"real_or_fake?\" (1 for real and 0 for fake)\n",
    "\n",
    "3. Model the prediction of the column named \"real_or_fake?\"\n",
    "\n",
    "4. Show how you have developed the method of scoring the models\n",
    "\n",
    "5. The modeling with the best metric is far less important than the methodology used to perform steps 2-4\n",
    "```"
   ]
  },
  {
   "cell_type": "code",
   "execution_count": 1,
   "metadata": {},
   "outputs": [],
   "source": [
    "import string\n",
    "import contractions\n",
    "from spellchecker import SpellChecker\n",
    "from wordcloud import STOPWORDS\n",
    "from collections import defaultdict\n",
    "\n",
    "from sklearn.model_selection import train_test_split\n",
    "from sklearn.model_selection import RepeatedKFold\n",
    "from sklearn.model_selection import cross_val_score\n",
    "from sklearn.feature_extraction.text import TfidfVectorizer, TfidfTransformer\n",
    "\n",
    "from sklearn import metrics\n",
    "from sklearn.metrics import plot_confusion_matrix\n",
    "\n",
    "from sklearn import svm\n",
    "from sklearn.linear_model import LogisticRegression\n",
    "\n",
    "import pandas as pd\n",
    "import numpy as np\n",
    "\n",
    "import matplotlib.pyplot as plt\n",
    "import seaborn as sns\n",
    "\n",
    "import spacy\n",
    "\n",
    "import gensim\n",
    "from gsdmm import MovieGroupProcess\n",
    "\n",
    "pd.options.mode.chained_assignment = None \n",
    "sns.set_context(\"notebook\")\n",
    "np.random.seed(42)\n",
    "\n",
    "nlp = spacy.load(\"en_core_web_lg\")"
   ]
  },
  {
   "cell_type": "markdown",
   "metadata": {},
   "source": [
    "## Load the data\n"
   ]
  },
  {
   "cell_type": "code",
   "execution_count": 2,
   "metadata": {},
   "outputs": [],
   "source": [
    "df = pd.read_csv('presentation_data.csv')"
   ]
  },
  {
   "cell_type": "code",
   "execution_count": 3,
   "metadata": {},
   "outputs": [
    {
     "data": {
      "text/html": [
       "<div>\n",
       "<style scoped>\n",
       "    .dataframe tbody tr th:only-of-type {\n",
       "        vertical-align: middle;\n",
       "    }\n",
       "\n",
       "    .dataframe tbody tr th {\n",
       "        vertical-align: top;\n",
       "    }\n",
       "\n",
       "    .dataframe thead th {\n",
       "        text-align: right;\n",
       "    }\n",
       "</style>\n",
       "<table border=\"1\" class=\"dataframe\">\n",
       "  <thead>\n",
       "    <tr style=\"text-align: right;\">\n",
       "      <th></th>\n",
       "      <th>index_val</th>\n",
       "      <th>type_val</th>\n",
       "      <th>place</th>\n",
       "      <th>short_text</th>\n",
       "      <th>real_or_fake</th>\n",
       "    </tr>\n",
       "  </thead>\n",
       "  <tbody>\n",
       "    <tr>\n",
       "      <th>0</th>\n",
       "      <td>1</td>\n",
       "      <td>NaN</td>\n",
       "      <td>NaN</td>\n",
       "      <td>Our Deeds are the Reason of this  # earthquake...</td>\n",
       "      <td>1</td>\n",
       "    </tr>\n",
       "    <tr>\n",
       "      <th>1</th>\n",
       "      <td>4</td>\n",
       "      <td>NaN</td>\n",
       "      <td>NaN</td>\n",
       "      <td>Forest fire near La Ronge Sask .  Canada</td>\n",
       "      <td>1</td>\n",
       "    </tr>\n",
       "    <tr>\n",
       "      <th>2</th>\n",
       "      <td>5</td>\n",
       "      <td>NaN</td>\n",
       "      <td>NaN</td>\n",
       "      <td>All residents asked to  ' shelter in place '  ...</td>\n",
       "      <td>1</td>\n",
       "    </tr>\n",
       "    <tr>\n",
       "      <th>3</th>\n",
       "      <td>6</td>\n",
       "      <td>NaN</td>\n",
       "      <td>NaN</td>\n",
       "      <td>13,000 people receive  # wildfires evacuation ...</td>\n",
       "      <td>1</td>\n",
       "    </tr>\n",
       "    <tr>\n",
       "      <th>4</th>\n",
       "      <td>7</td>\n",
       "      <td>NaN</td>\n",
       "      <td>NaN</td>\n",
       "      <td>Just got sent this photo from Ruby  # Alaska a...</td>\n",
       "      <td>1</td>\n",
       "    </tr>\n",
       "    <tr>\n",
       "      <th>...</th>\n",
       "      <td>...</td>\n",
       "      <td>...</td>\n",
       "      <td>...</td>\n",
       "      <td>...</td>\n",
       "      <td>...</td>\n",
       "    </tr>\n",
       "    <tr>\n",
       "      <th>7608</th>\n",
       "      <td>10869</td>\n",
       "      <td>NaN</td>\n",
       "      <td>NaN</td>\n",
       "      <td>Two giant cranes holding a bridge collapse int...</td>\n",
       "      <td>1</td>\n",
       "    </tr>\n",
       "    <tr>\n",
       "      <th>7609</th>\n",
       "      <td>10870</td>\n",
       "      <td>NaN</td>\n",
       "      <td>NaN</td>\n",
       "      <td>@ Aria Ahrary  @ TheTawniest The out of contr...</td>\n",
       "      <td>1</td>\n",
       "    </tr>\n",
       "    <tr>\n",
       "      <th>7610</th>\n",
       "      <td>10871</td>\n",
       "      <td>NaN</td>\n",
       "      <td>NaN</td>\n",
       "      <td>M1 . 94  [ 01 : 04 UTC ]  ? 5km S of Volcano H...</td>\n",
       "      <td>1</td>\n",
       "    </tr>\n",
       "    <tr>\n",
       "      <th>7611</th>\n",
       "      <td>10872</td>\n",
       "      <td>NaN</td>\n",
       "      <td>NaN</td>\n",
       "      <td>Police investigating after an e - bike collide...</td>\n",
       "      <td>1</td>\n",
       "    </tr>\n",
       "    <tr>\n",
       "      <th>7612</th>\n",
       "      <td>10873</td>\n",
       "      <td>NaN</td>\n",
       "      <td>NaN</td>\n",
       "      <td>The Latest :  More Homes Razed by Northern Cal...</td>\n",
       "      <td>1</td>\n",
       "    </tr>\n",
       "  </tbody>\n",
       "</table>\n",
       "<p>7613 rows × 5 columns</p>\n",
       "</div>"
      ],
      "text/plain": [
       "      index_val type_val place  \\\n",
       "0             1      NaN   NaN   \n",
       "1             4      NaN   NaN   \n",
       "2             5      NaN   NaN   \n",
       "3             6      NaN   NaN   \n",
       "4             7      NaN   NaN   \n",
       "...         ...      ...   ...   \n",
       "7608      10869      NaN   NaN   \n",
       "7609      10870      NaN   NaN   \n",
       "7610      10871      NaN   NaN   \n",
       "7611      10872      NaN   NaN   \n",
       "7612      10873      NaN   NaN   \n",
       "\n",
       "                                             short_text  real_or_fake  \n",
       "0     Our Deeds are the Reason of this  # earthquake...             1  \n",
       "1              Forest fire near La Ronge Sask .  Canada             1  \n",
       "2     All residents asked to  ' shelter in place '  ...             1  \n",
       "3     13,000 people receive  # wildfires evacuation ...             1  \n",
       "4     Just got sent this photo from Ruby  # Alaska a...             1  \n",
       "...                                                 ...           ...  \n",
       "7608  Two giant cranes holding a bridge collapse int...             1  \n",
       "7609   @ Aria Ahrary  @ TheTawniest The out of contr...             1  \n",
       "7610  M1 . 94  [ 01 : 04 UTC ]  ? 5km S of Volcano H...             1  \n",
       "7611  Police investigating after an e - bike collide...             1  \n",
       "7612  The Latest :  More Homes Razed by Northern Cal...             1  \n",
       "\n",
       "[7613 rows x 5 columns]"
      ]
     },
     "execution_count": 3,
     "metadata": {},
     "output_type": "execute_result"
    }
   ],
   "source": [
    "df"
   ]
  },
  {
   "cell_type": "code",
   "execution_count": 4,
   "metadata": {},
   "outputs": [
    {
     "data": {
      "text/plain": [
       "<AxesSubplot:xlabel='real_or_fake', ylabel='count'>"
      ]
     },
     "execution_count": 4,
     "metadata": {},
     "output_type": "execute_result"
    },
    {
     "data": {
      "image/png": "[encoded data removed]",
      "text/plain": [
       "<Figure size 432x288 with 1 Axes>"
      ]
     },
     "metadata": {
      "needs_background": "light"
     },
     "output_type": "display_data"
    }
   ],
   "source": [
    "sns.countplot(x = 'real_or_fake', data=df) # not bad"
   ]
  },
  {
   "cell_type": "markdown",
   "metadata": {},
   "source": [
    "### Impressions\n",
    "- This text data seems to be Twitter data, which means that `place` will not be useful because this field is generated by the user and doesn't necessarily contain a real place\n",
    "- Let's see if `type_val` contains any useful information"
   ]
  },
  {
   "cell_type": "code",
   "execution_count": 5,
   "metadata": {},
   "outputs": [
    {
     "data": {
      "text/plain": [
       "array([nan, 'ablaze', 'accident', 'aftershock', 'airplane%20accident',\n",
       "       'ambulance', 'annihilated', 'annihilation', 'apocalypse',\n",
       "       'armageddon', 'army', 'arson', 'arsonist', 'attack', 'attacked',\n",
       "       'avalanche', 'battle', 'bioterror', 'bioterrorism', 'blaze',\n",
       "       'blazing', 'bleeding', 'blew%20up', 'blight', 'blizzard', 'blood',\n",
       "       'bloody', 'blown%20up', 'body%20bag', 'body%20bagging',\n",
       "       'body%20bags', 'bomb', 'bombed', 'bombing', 'bridge%20collapse',\n",
       "       'buildings%20burning', 'buildings%20on%20fire', 'burned',\n",
       "       'burning', 'burning%20buildings', 'bush%20fires', 'casualties',\n",
       "       'casualty', 'catastrophe', 'catastrophic', 'chemical%20emergency',\n",
       "       'cliff%20fall', 'collapse', 'collapsed', 'collide'], dtype=object)"
      ]
     },
     "execution_count": 5,
     "metadata": {},
     "output_type": "execute_result"
    }
   ],
   "source": [
    "df['type_val'].unique()[0:50]"
   ]
  },
  {
   "cell_type": "code",
   "execution_count": 6,
   "metadata": {},
   "outputs": [],
   "source": [
    "real_type_val = df.query(\"real_or_fake == 1\")['type_val'].value_counts().reset_index().iloc[0:20]\n",
    "fake_type_val = df.query(\"real_or_fake == 0\")['type_val'].value_counts().reset_index().iloc[0:20]"
   ]
  },
  {
   "cell_type": "code",
   "execution_count": 7,
   "metadata": {},
   "outputs": [
    {
     "data": {
      "text/plain": [
       "<AxesSubplot:xlabel='type_val', ylabel='index'>"
      ]
     },
     "execution_count": 7,
     "metadata": {},
     "output_type": "execute_result"
    },
    {
     "data": {
      "image/png": "[encoded data removed]",
      "text/plain": [
       "<Figure size 432x288 with 1 Axes>"
      ]
     },
     "metadata": {
      "needs_background": "light"
     },
     "output_type": "display_data"
    }
   ],
   "source": [
    "sns.barplot(y = 'index', x = 'type_val', data = real_type_val)"
   ]
  },
  {
   "cell_type": "code",
   "execution_count": 8,
   "metadata": {},
   "outputs": [
    {
     "data": {
      "text/plain": [
       "<AxesSubplot:xlabel='type_val', ylabel='index'>"
      ]
     },
     "execution_count": 8,
     "metadata": {},
     "output_type": "execute_result"
    },
    {
     "data": {
      "image/png": "[encoded data removed]",
      "text/plain": [
       "<Figure size 432x288 with 1 Axes>"
      ]
     },
     "metadata": {
      "needs_background": "light"
     },
     "output_type": "display_data"
    }
   ],
   "source": [
    "sns.barplot(y = 'index', x = 'type_val', data = fake_type_val)"
   ]
  },
  {
   "cell_type": "markdown",
   "metadata": {},
   "source": [
    "- `type_val` may contain useful information since there is good separation between real and fake but it requires heavy cleaning\n",
    "- for the model to be properly robust, especially for new data, we should use topic modeling strategies to create our own `type_val`\n",
    "- Use raw text data for topic modeling"
   ]
  },
  {
   "cell_type": "markdown",
   "metadata": {},
   "source": [
    "## Pre-processing of Raw Text Data"
   ]
  },
  {
   "cell_type": "code",
   "execution_count": 9,
   "metadata": {},
   "outputs": [
    {
     "data": {
      "text/plain": [
       "True"
      ]
     },
     "execution_count": 9,
     "metadata": {},
     "output_type": "execute_result"
    }
   ],
   "source": [
    "len(df['index_val'].unique()) == len(df['index_val']) # check for duplicate indexes"
   ]
  },
  {
   "cell_type": "code",
   "execution_count": 10,
   "metadata": {},
   "outputs": [
    {
     "data": {
      "text/html": [
       "<div>\n",
       "<style scoped>\n",
       "    .dataframe tbody tr th:only-of-type {\n",
       "        vertical-align: middle;\n",
       "    }\n",
       "\n",
       "    .dataframe tbody tr th {\n",
       "        vertical-align: top;\n",
       "    }\n",
       "\n",
       "    .dataframe thead th {\n",
       "        text-align: right;\n",
       "    }\n",
       "</style>\n",
       "<table border=\"1\" class=\"dataframe\">\n",
       "  <thead>\n",
       "    <tr style=\"text-align: right;\">\n",
       "      <th></th>\n",
       "      <th>index_val</th>\n",
       "      <th>type_val</th>\n",
       "      <th>place</th>\n",
       "      <th>short_text</th>\n",
       "      <th>real_or_fake</th>\n",
       "    </tr>\n",
       "  </thead>\n",
       "  <tbody>\n",
       "    <tr>\n",
       "      <th>48</th>\n",
       "      <td>68</td>\n",
       "      <td>ablaze</td>\n",
       "      <td>Live On Webcam</td>\n",
       "      <td>Check these out :       # nsfw</td>\n",
       "      <td>0</td>\n",
       "    </tr>\n",
       "    <tr>\n",
       "      <th>106</th>\n",
       "      <td>156</td>\n",
       "      <td>aftershock</td>\n",
       "      <td>US</td>\n",
       "      <td>320  [ IR ]  ICEMOON  [ AFTERSHOCK ]   |    | ...</td>\n",
       "      <td>0</td>\n",
       "    </tr>\n",
       "    <tr>\n",
       "      <th>114</th>\n",
       "      <td>164</td>\n",
       "      <td>aftershock</td>\n",
       "      <td>Switzerland</td>\n",
       "      <td>320  [ IR ]  ICEMOON  [ AFTERSHOCK ]   |    | ...</td>\n",
       "      <td>0</td>\n",
       "    </tr>\n",
       "    <tr>\n",
       "      <th>115</th>\n",
       "      <td>165</td>\n",
       "      <td>aftershock</td>\n",
       "      <td>US</td>\n",
       "      <td>320  [ IR ]  ICEMOON  [ AFTERSHOCK ]   |    | ...</td>\n",
       "      <td>0</td>\n",
       "    </tr>\n",
       "    <tr>\n",
       "      <th>116</th>\n",
       "      <td>168</td>\n",
       "      <td>aftershock</td>\n",
       "      <td>NaN</td>\n",
       "      <td>320  [ IR ]  ICEMOON  [ AFTERSHOCK ]   |    | ...</td>\n",
       "      <td>0</td>\n",
       "    </tr>\n",
       "    <tr>\n",
       "      <th>...</th>\n",
       "      <td>...</td>\n",
       "      <td>...</td>\n",
       "      <td>...</td>\n",
       "      <td>...</td>\n",
       "      <td>...</td>\n",
       "    </tr>\n",
       "    <tr>\n",
       "      <th>7608</th>\n",
       "      <td>10869</td>\n",
       "      <td>NaN</td>\n",
       "      <td>NaN</td>\n",
       "      <td>Two giant cranes holding a bridge collapse int...</td>\n",
       "      <td>1</td>\n",
       "    </tr>\n",
       "    <tr>\n",
       "      <th>7609</th>\n",
       "      <td>10870</td>\n",
       "      <td>NaN</td>\n",
       "      <td>NaN</td>\n",
       "      <td>@ Aria Ahrary  @ TheTawniest The out of contr...</td>\n",
       "      <td>1</td>\n",
       "    </tr>\n",
       "    <tr>\n",
       "      <th>7610</th>\n",
       "      <td>10871</td>\n",
       "      <td>NaN</td>\n",
       "      <td>NaN</td>\n",
       "      <td>M1 . 94  [ 01 : 04 UTC ]  ? 5km S of Volcano H...</td>\n",
       "      <td>1</td>\n",
       "    </tr>\n",
       "    <tr>\n",
       "      <th>7611</th>\n",
       "      <td>10872</td>\n",
       "      <td>NaN</td>\n",
       "      <td>NaN</td>\n",
       "      <td>Police investigating after an e - bike collide...</td>\n",
       "      <td>1</td>\n",
       "    </tr>\n",
       "    <tr>\n",
       "      <th>7612</th>\n",
       "      <td>10873</td>\n",
       "      <td>NaN</td>\n",
       "      <td>NaN</td>\n",
       "      <td>The Latest :  More Homes Razed by Northern Cal...</td>\n",
       "      <td>1</td>\n",
       "    </tr>\n",
       "  </tbody>\n",
       "</table>\n",
       "<p>632 rows × 5 columns</p>\n",
       "</div>"
      ],
      "text/plain": [
       "      index_val    type_val           place  \\\n",
       "48           68      ablaze  Live On Webcam   \n",
       "106         156  aftershock              US   \n",
       "114         164  aftershock     Switzerland   \n",
       "115         165  aftershock              US   \n",
       "116         168  aftershock             NaN   \n",
       "...         ...         ...             ...   \n",
       "7608      10869         NaN             NaN   \n",
       "7609      10870         NaN             NaN   \n",
       "7610      10871         NaN             NaN   \n",
       "7611      10872         NaN             NaN   \n",
       "7612      10873         NaN             NaN   \n",
       "\n",
       "                                             short_text  real_or_fake  \n",
       "48                       Check these out :       # nsfw             0  \n",
       "106   320  [ IR ]  ICEMOON  [ AFTERSHOCK ]   |    | ...             0  \n",
       "114   320  [ IR ]  ICEMOON  [ AFTERSHOCK ]   |    | ...             0  \n",
       "115   320  [ IR ]  ICEMOON  [ AFTERSHOCK ]   |    | ...             0  \n",
       "116   320  [ IR ]  ICEMOON  [ AFTERSHOCK ]   |    | ...             0  \n",
       "...                                                 ...           ...  \n",
       "7608  Two giant cranes holding a bridge collapse int...             1  \n",
       "7609   @ Aria Ahrary  @ TheTawniest The out of contr...             1  \n",
       "7610  M1 . 94  [ 01 : 04 UTC ]  ? 5km S of Volcano H...             1  \n",
       "7611  Police investigating after an e - bike collide...             1  \n",
       "7612  The Latest :  More Homes Razed by Northern Cal...             1  \n",
       "\n",
       "[632 rows x 5 columns]"
      ]
     },
     "execution_count": 10,
     "metadata": {},
     "output_type": "execute_result"
    }
   ],
   "source": [
    "# check for duplicates in `short_text`\n",
    "\n",
    "df[df.duplicated(subset=['short_text'])]\n",
    "\n",
    "# 632 duplicates is a lot. Let's check if the duplicates were consistently classified as real or fake "
   ]
  },
  {
   "cell_type": "code",
   "execution_count": 11,
   "metadata": {},
   "outputs": [
    {
     "data": {
      "text/html": [
       "<div>\n",
       "<style scoped>\n",
       "    .dataframe tbody tr th:only-of-type {\n",
       "        vertical-align: middle;\n",
       "    }\n",
       "\n",
       "    .dataframe tbody tr th {\n",
       "        vertical-align: top;\n",
       "    }\n",
       "\n",
       "    .dataframe thead th {\n",
       "        text-align: right;\n",
       "    }\n",
       "</style>\n",
       "<table border=\"1\" class=\"dataframe\">\n",
       "  <thead>\n",
       "    <tr style=\"text-align: right;\">\n",
       "      <th></th>\n",
       "      <th>index_val</th>\n",
       "      <th>real_or_fake</th>\n",
       "    </tr>\n",
       "    <tr>\n",
       "      <th>short_text</th>\n",
       "      <th></th>\n",
       "      <th></th>\n",
       "    </tr>\n",
       "  </thead>\n",
       "  <tbody>\n",
       "    <tr>\n",
       "      <th>\\nANOTHER DISASTER WAITING TO HAPPEN AND YOUR ALLOWING IT ?</th>\n",
       "      <td>7255.0</td>\n",
       "      <td>1.0</td>\n",
       "    </tr>\n",
       "    <tr>\n",
       "      <th>\\nCROYDON RIOTS -  The Next Day :  Burning Buildings in High Street  &amp;  crowds at Reeves Corner\\nCroydonization\\nAugust 2011</th>\n",
       "      <td>1770.0</td>\n",
       "      <td>1.0</td>\n",
       "    </tr>\n",
       "    <tr>\n",
       "      <th>\\nSON OF SAVIOR LAVA VIDEO</th>\n",
       "      <td>6724.0</td>\n",
       "      <td>0.0</td>\n",
       "    </tr>\n",
       "    <tr>\n",
       "      <th>\\nSeems they declared war against government .</th>\n",
       "      <td>6455.0</td>\n",
       "      <td>1.0</td>\n",
       "    </tr>\n",
       "    <tr>\n",
       "      <th># ArtisteOfTheWeekFact say  # Conversations by  # coast2coastdjs agree  @ Crystal_Blaz  ' s  # Jiwonle is a  # HipHop  # ClubBanger</th>\n",
       "      <td>978.0</td>\n",
       "      <td>0.0</td>\n",
       "    </tr>\n",
       "    <tr>\n",
       "      <th>...</th>\n",
       "      <td>...</td>\n",
       "      <td>...</td>\n",
       "    </tr>\n",
       "    <tr>\n",
       "      <th>you wrecked my whole world</th>\n",
       "      <td>10811.0</td>\n",
       "      <td>0.0</td>\n",
       "    </tr>\n",
       "    <tr>\n",
       "      <th>~ More wicked weather rolls through Calgary and surrounding areas</th>\n",
       "      <td>5847.0</td>\n",
       "      <td>1.0</td>\n",
       "    </tr>\n",
       "    <tr>\n",
       "      <th>~Still echoes of their screams~</th>\n",
       "      <td>8560.0</td>\n",
       "      <td>0.0</td>\n",
       "    </tr>\n",
       "    <tr>\n",
       "      <th>å¤ }  New Ladies Shoulder Tote  # Handbag Faux Leather Hobo Purse Cross Body Bag  # Womens   RT en</th>\n",
       "      <td>1394.0</td>\n",
       "      <td>0.0</td>\n",
       "    </tr>\n",
       "    <tr>\n",
       "      <th>å¬ ' Only the sea knows how many are dead '   @ MSF_Sea after last disaster in  # Mediterranean turned into a massgrave</th>\n",
       "      <td>4006.0</td>\n",
       "      <td>1.0</td>\n",
       "    </tr>\n",
       "  </tbody>\n",
       "</table>\n",
       "<p>6981 rows × 2 columns</p>\n",
       "</div>"
      ],
      "text/plain": [
       "                                                    index_val  real_or_fake\n",
       "short_text                                                                 \n",
       "\\nANOTHER DISASTER WAITING TO HAPPEN AND YOUR A...     7255.0           1.0\n",
       "\\nCROYDON RIOTS -  The Next Day :  Burning Buil...     1770.0           1.0\n",
       "\\nSON OF SAVIOR LAVA VIDEO                             6724.0           0.0\n",
       " \\nSeems they declared war against government .        6455.0           1.0\n",
       "  # ArtisteOfTheWeekFact say  # Conversations b...      978.0           0.0\n",
       "...                                                       ...           ...\n",
       "you wrecked my whole world                            10811.0           0.0\n",
       "~ More wicked weather rolls through Calgary and...     5847.0           1.0\n",
       "~Still echoes of their screams~                        8560.0           0.0\n",
       "å¤ }  New Ladies Shoulder Tote  # Handbag Faux ...     1394.0           0.0\n",
       "å¬ ' Only the sea knows how many are dead '   @...     4006.0           1.0\n",
       "\n",
       "[6981 rows x 2 columns]"
      ]
     },
     "execution_count": 11,
     "metadata": {},
     "output_type": "execute_result"
    }
   ],
   "source": [
    "dupes_mean = df.groupby('short_text').mean()\n",
    "dupes_mean\n",
    "\n",
    "# if the mean is not 0 or 1, then that means that `real_or_fake` was inconsistent between duplicates\n",
    "# let's drop the inconsistencies for now. \n",
    "# but in reality we would be double checking 1) why duplicates occurred (scraping or API issue?) and 2) why were they categorized differently?"
   ]
  },
  {
   "cell_type": "code",
   "execution_count": 12,
   "metadata": {},
   "outputs": [
    {
     "data": {
      "text/html": [
       "<div>\n",
       "<style scoped>\n",
       "    .dataframe tbody tr th:only-of-type {\n",
       "        vertical-align: middle;\n",
       "    }\n",
       "\n",
       "    .dataframe tbody tr th {\n",
       "        vertical-align: top;\n",
       "    }\n",
       "\n",
       "    .dataframe thead th {\n",
       "        text-align: right;\n",
       "    }\n",
       "</style>\n",
       "<table border=\"1\" class=\"dataframe\">\n",
       "  <thead>\n",
       "    <tr style=\"text-align: right;\">\n",
       "      <th></th>\n",
       "      <th>index_val</th>\n",
       "      <th>real_or_fake</th>\n",
       "    </tr>\n",
       "    <tr>\n",
       "      <th>short_text</th>\n",
       "      <th></th>\n",
       "      <th></th>\n",
       "    </tr>\n",
       "  </thead>\n",
       "  <tbody>\n",
       "    <tr>\n",
       "      <th>Cindy Noonan @ Cindy Noonan - Heartbreak in  # Baltimore  # Rioting  # YAHIstorical  # Underground Railraod</th>\n",
       "      <td>8271.000000</td>\n",
       "      <td>0.500000</td>\n",
       "    </tr>\n",
       "    <tr>\n",
       "      <th># 360WiseNews  :  China ' s Stock Market Crash :  Are There Gems In The Rubble ?</th>\n",
       "      <td>8322.500000</td>\n",
       "      <td>0.500000</td>\n",
       "    </tr>\n",
       "    <tr>\n",
       "      <th># Allah describes piling up  # wealth thinking it would last  # forever as the description of the people of  # Hellfire in Surah Humaza .   # Reflect</th>\n",
       "      <td>6107.333333</td>\n",
       "      <td>0.333333</td>\n",
       "    </tr>\n",
       "    <tr>\n",
       "      <th># food scare  # offers to go  # Nestle India slips into loss after  # Magginoodle  # ban unsafe and hazardous for  # human consumption</th>\n",
       "      <td>6016.666667</td>\n",
       "      <td>0.666667</td>\n",
       "    </tr>\n",
       "    <tr>\n",
       "      <th># hot  C - 130 specially modified to land in a stadium and rescue hostages in Iran in 1980   # prebreak  # best</th>\n",
       "      <td>6356.875000</td>\n",
       "      <td>0.875000</td>\n",
       "    </tr>\n",
       "    <tr>\n",
       "      <th>...</th>\n",
       "      <td>...</td>\n",
       "      <td>...</td>\n",
       "    </tr>\n",
       "    <tr>\n",
       "      <th>World Annihilation vs Self Transformation  Aliens Attack to Exterminate Humans</th>\n",
       "      <td>371.500000</td>\n",
       "      <td>0.500000</td>\n",
       "    </tr>\n",
       "    <tr>\n",
       "      <th>World War II book LIGHTNING JOE An Autobiography by General J .  Lawton Collins</th>\n",
       "      <td>6781.500000</td>\n",
       "      <td>0.500000</td>\n",
       "    </tr>\n",
       "    <tr>\n",
       "      <th>like for the music video I want some real action shit like burning buildings and police chases not some weak ben winston shit</th>\n",
       "      <td>1855.000000</td>\n",
       "      <td>0.500000</td>\n",
       "    </tr>\n",
       "    <tr>\n",
       "      <th>that horrible sinking feeling when you have been at home on your phone for a while and you realise its been on 3G this whole time</th>\n",
       "      <td>8713.250000</td>\n",
       "      <td>0.500000</td>\n",
       "    </tr>\n",
       "    <tr>\n",
       "      <th>wowo -  =  12000 Nigerian refugees repatriated from Cameroon</th>\n",
       "      <td>8031.000000</td>\n",
       "      <td>0.500000</td>\n",
       "    </tr>\n",
       "  </tbody>\n",
       "</table>\n",
       "<p>66 rows × 2 columns</p>\n",
       "</div>"
      ],
      "text/plain": [
       "                                                      index_val  real_or_fake\n",
       "short_text                                                                   \n",
       "  Cindy Noonan @ Cindy Noonan - Heartbreak in  ...  8271.000000      0.500000\n",
       " # 360WiseNews  :  China ' s Stock Market Crash...  8322.500000      0.500000\n",
       " # Allah describes piling up  # wealth thinking...  6107.333333      0.333333\n",
       " # food scare  # offers to go  # Nestle India s...  6016.666667      0.666667\n",
       " # hot  C - 130 specially modified to land in a...  6356.875000      0.875000\n",
       "...                                                         ...           ...\n",
       "World Annihilation vs Self Transformation  Alie...   371.500000      0.500000\n",
       "World War II book LIGHTNING JOE An Autobiograph...  6781.500000      0.500000\n",
       "like for the music video I want some real actio...  1855.000000      0.500000\n",
       "that horrible sinking feeling when you have bee...  8713.250000      0.500000\n",
       "wowo -  =  12000 Nigerian refugees repatriated ...  8031.000000      0.500000\n",
       "\n",
       "[66 rows x 2 columns]"
      ]
     },
     "execution_count": 12,
     "metadata": {},
     "output_type": "execute_result"
    }
   ],
   "source": [
    "dupes_mean.query(\"real_or_fake != 1 & real_or_fake != 0\")"
   ]
  },
  {
   "cell_type": "code",
   "execution_count": 13,
   "metadata": {},
   "outputs": [],
   "source": [
    "remove_text = dupes_mean.query(\"real_or_fake != 1 & real_or_fake != 0\").reset_index()['short_text'].to_list()"
   ]
  },
  {
   "cell_type": "code",
   "execution_count": 14,
   "metadata": {},
   "outputs": [
    {
     "data": {
      "text/plain": [
       "66"
      ]
     },
     "execution_count": 14,
     "metadata": {},
     "output_type": "execute_result"
    }
   ],
   "source": [
    "len(remove_text)"
   ]
  },
  {
   "cell_type": "code",
   "execution_count": 15,
   "metadata": {},
   "outputs": [
    {
     "data": {
      "text/html": [
       "<div>\n",
       "<style scoped>\n",
       "    .dataframe tbody tr th:only-of-type {\n",
       "        vertical-align: middle;\n",
       "    }\n",
       "\n",
       "    .dataframe tbody tr th {\n",
       "        vertical-align: top;\n",
       "    }\n",
       "\n",
       "    .dataframe thead th {\n",
       "        text-align: right;\n",
       "    }\n",
       "</style>\n",
       "<table border=\"1\" class=\"dataframe\">\n",
       "  <thead>\n",
       "    <tr style=\"text-align: right;\">\n",
       "      <th></th>\n",
       "      <th>index_val</th>\n",
       "      <th>type_val</th>\n",
       "      <th>place</th>\n",
       "      <th>short_text</th>\n",
       "      <th>real_or_fake</th>\n",
       "    </tr>\n",
       "  </thead>\n",
       "  <tbody>\n",
       "    <tr>\n",
       "      <th>0</th>\n",
       "      <td>1</td>\n",
       "      <td>NaN</td>\n",
       "      <td>NaN</td>\n",
       "      <td>Our Deeds are the Reason of this  # earthquake...</td>\n",
       "      <td>1</td>\n",
       "    </tr>\n",
       "    <tr>\n",
       "      <th>1</th>\n",
       "      <td>4</td>\n",
       "      <td>NaN</td>\n",
       "      <td>NaN</td>\n",
       "      <td>Forest fire near La Ronge Sask .  Canada</td>\n",
       "      <td>1</td>\n",
       "    </tr>\n",
       "    <tr>\n",
       "      <th>2</th>\n",
       "      <td>5</td>\n",
       "      <td>NaN</td>\n",
       "      <td>NaN</td>\n",
       "      <td>All residents asked to  ' shelter in place '  ...</td>\n",
       "      <td>1</td>\n",
       "    </tr>\n",
       "    <tr>\n",
       "      <th>3</th>\n",
       "      <td>6</td>\n",
       "      <td>NaN</td>\n",
       "      <td>NaN</td>\n",
       "      <td>13,000 people receive  # wildfires evacuation ...</td>\n",
       "      <td>1</td>\n",
       "    </tr>\n",
       "    <tr>\n",
       "      <th>4</th>\n",
       "      <td>7</td>\n",
       "      <td>NaN</td>\n",
       "      <td>NaN</td>\n",
       "      <td>Just got sent this photo from Ruby  # Alaska a...</td>\n",
       "      <td>1</td>\n",
       "    </tr>\n",
       "    <tr>\n",
       "      <th>...</th>\n",
       "      <td>...</td>\n",
       "      <td>...</td>\n",
       "      <td>...</td>\n",
       "      <td>...</td>\n",
       "      <td>...</td>\n",
       "    </tr>\n",
       "    <tr>\n",
       "      <th>7608</th>\n",
       "      <td>10869</td>\n",
       "      <td>NaN</td>\n",
       "      <td>NaN</td>\n",
       "      <td>Two giant cranes holding a bridge collapse int...</td>\n",
       "      <td>1</td>\n",
       "    </tr>\n",
       "    <tr>\n",
       "      <th>7609</th>\n",
       "      <td>10870</td>\n",
       "      <td>NaN</td>\n",
       "      <td>NaN</td>\n",
       "      <td>@ Aria Ahrary  @ TheTawniest The out of contr...</td>\n",
       "      <td>1</td>\n",
       "    </tr>\n",
       "    <tr>\n",
       "      <th>7610</th>\n",
       "      <td>10871</td>\n",
       "      <td>NaN</td>\n",
       "      <td>NaN</td>\n",
       "      <td>M1 . 94  [ 01 : 04 UTC ]  ? 5km S of Volcano H...</td>\n",
       "      <td>1</td>\n",
       "    </tr>\n",
       "    <tr>\n",
       "      <th>7611</th>\n",
       "      <td>10872</td>\n",
       "      <td>NaN</td>\n",
       "      <td>NaN</td>\n",
       "      <td>Police investigating after an e - bike collide...</td>\n",
       "      <td>1</td>\n",
       "    </tr>\n",
       "    <tr>\n",
       "      <th>7612</th>\n",
       "      <td>10873</td>\n",
       "      <td>NaN</td>\n",
       "      <td>NaN</td>\n",
       "      <td>The Latest :  More Homes Razed by Northern Cal...</td>\n",
       "      <td>1</td>\n",
       "    </tr>\n",
       "  </tbody>\n",
       "</table>\n",
       "<p>7382 rows × 5 columns</p>\n",
       "</div>"
      ],
      "text/plain": [
       "      index_val type_val place  \\\n",
       "0             1      NaN   NaN   \n",
       "1             4      NaN   NaN   \n",
       "2             5      NaN   NaN   \n",
       "3             6      NaN   NaN   \n",
       "4             7      NaN   NaN   \n",
       "...         ...      ...   ...   \n",
       "7608      10869      NaN   NaN   \n",
       "7609      10870      NaN   NaN   \n",
       "7610      10871      NaN   NaN   \n",
       "7611      10872      NaN   NaN   \n",
       "7612      10873      NaN   NaN   \n",
       "\n",
       "                                             short_text  real_or_fake  \n",
       "0     Our Deeds are the Reason of this  # earthquake...             1  \n",
       "1              Forest fire near La Ronge Sask .  Canada             1  \n",
       "2     All residents asked to  ' shelter in place '  ...             1  \n",
       "3     13,000 people receive  # wildfires evacuation ...             1  \n",
       "4     Just got sent this photo from Ruby  # Alaska a...             1  \n",
       "...                                                 ...           ...  \n",
       "7608  Two giant cranes holding a bridge collapse int...             1  \n",
       "7609   @ Aria Ahrary  @ TheTawniest The out of contr...             1  \n",
       "7610  M1 . 94  [ 01 : 04 UTC ]  ? 5km S of Volcano H...             1  \n",
       "7611  Police investigating after an e - bike collide...             1  \n",
       "7612  The Latest :  More Homes Razed by Northern Cal...             1  \n",
       "\n",
       "[7382 rows x 5 columns]"
      ]
     },
     "execution_count": 15,
     "metadata": {},
     "output_type": "execute_result"
    }
   ],
   "source": [
    "df.query('short_text not in @remove_text', inplace=True)\n",
    "df\n",
    "\n",
    "# Shouldn't necessarily remove duplicates because retweets contain information too"
   ]
  },
  {
   "cell_type": "code",
   "execution_count": 16,
   "metadata": {},
   "outputs": [],
   "source": [
    "# we need to be able to grab contractions and expand them\n",
    "# the raw data has a space to separate the word \"can ' t\" -> \"can't\"\n",
    "\n",
    "df['short_text'] = df['short_text'].str.replace(\" ' \", \"'\") # make the contractions again\n",
    "df['short_text'] = df['short_text'].apply(lambda x: contractions.fix(x)) # expand contractions"
   ]
  },
  {
   "cell_type": "code",
   "execution_count": 17,
   "metadata": {},
   "outputs": [],
   "source": [
    "# now we removed input with inconsistent real_or_fake\n",
    "# lets keep cleaning\n",
    "\n",
    "df['clean_text'] = df['short_text'].apply(lambda x: x.translate(str.maketrans('', '', string.punctuation)))\n",
    "df['clean_text'] = df['clean_text'].str.replace('[^a-zA-Z]', ' ', regex=True) # remove numbers, keep only letters\n",
    "df['clean_text'] = df['clean_text'].str.replace('\\s+', ' ', regex=True) # remove multiple spaces"
   ]
  },
  {
   "cell_type": "code",
   "execution_count": 18,
   "metadata": {},
   "outputs": [],
   "source": [
    "df['lower_clean_text'] = df['clean_text'].str.lower()\n",
    "df['spell_checked_text'] = df['lower_clean_text'] "
   ]
  },
  {
   "cell_type": "code",
   "execution_count": 19,
   "metadata": {},
   "outputs": [],
   "source": [
    "spell = SpellChecker()\n",
    "\n",
    "df['spell_checked_text'] = df['spell_checked_text'].apply(lambda x: spell.correction(x))\n",
    "\n",
    "# slow 😴"
   ]
  },
  {
   "cell_type": "code",
   "execution_count": 20,
   "metadata": {},
   "outputs": [],
   "source": [
    "# let's remove some stopwards\n",
    "\n",
    "df['super_clean_text'] = df['spell_checked_text'].apply(lambda x: [item for item in x.split(' ') if item not in STOPWORDS])\n",
    "df['super_clean_text'] = df['super_clean_text'].apply(lambda strings: [x for x in strings if x]) # remove empty strings\n"
   ]
  },
  {
   "cell_type": "code",
   "execution_count": 21,
   "metadata": {},
   "outputs": [],
   "source": [
    "df['temp_docs'] = df['super_clean_text'].str.join(' ').apply(lambda x: nlp(x))\n",
    "df['lemmatized_text'] = df['temp_docs'].apply(lambda x: \" \".join([token.lemma_ for token in x]))"
   ]
  },
  {
   "cell_type": "code",
   "execution_count": 22,
   "metadata": {},
   "outputs": [],
   "source": [
    "df['lemmatized_text'] = df['lemmatized_text'].str.replace('\\s+', ' ', regex=True) # remove multiple spaces"
   ]
  },
  {
   "cell_type": "markdown",
   "metadata": {},
   "source": [
    "## N-Gram Generation"
   ]
  },
  {
   "cell_type": "code",
   "execution_count": 23,
   "metadata": {},
   "outputs": [],
   "source": [
    "def generate_ngrams(text, n_gram=1):\n",
    "    token = [token for token in text.lower().split(' ') if token != '' if token not in STOPWORDS]\n",
    "    ngrams = zip(*[token[i:] for i in range(n_gram)])\n",
    "    return [' '.join(ngram) for ngram in ngrams]\n",
    "\n",
    "real_unigrams = defaultdict(int)\n",
    "fake_unigrams = defaultdict(int)\n",
    "\n",
    "real_bigrams = defaultdict(int)\n",
    "fake_bigrams = defaultdict(int)\n",
    "\n",
    "real_trigrams = defaultdict(int)\n",
    "fake_trigrams = defaultdict(int)\n",
    "\n",
    "for text in df.query(\"real_or_fake == 1\")['spell_checked_text']:\n",
    "    for word in generate_ngrams(text, n_gram=1):\n",
    "        real_unigrams[word] += 1\n",
    "    for word in generate_ngrams(text, n_gram=2):\n",
    "        real_bigrams[word] += 1\n",
    "    for word in generate_ngrams(text, n_gram=3):\n",
    "        real_trigrams[word] += 1\n",
    "        \n",
    "for text in df.query(\"real_or_fake == 0\")['spell_checked_text']:\n",
    "    for word in generate_ngrams(text, n_gram=1):\n",
    "        fake_unigrams[word] += 1\n",
    "    for word in generate_ngrams(text, n_gram=2):\n",
    "        fake_bigrams[word] += 1\n",
    "    for word in generate_ngrams(text, n_gram=3):\n",
    "        fake_trigrams[word] += 1\n",
    "\n",
    "def create_df_from_sorted_dct(dct): \n",
    "    df = pd.DataFrame(sorted(dct.items(), key=lambda x: x[1])[::-1])\n",
    "    df.columns = ['ngram', 'frequency']\n",
    "    df = df.iloc[:20] # just take the top 20 words\n",
    "    return df"
   ]
  },
  {
   "cell_type": "code",
   "execution_count": 24,
   "metadata": {},
   "outputs": [],
   "source": [
    "df_real_uni = create_df_from_sorted_dct(real_unigrams)\n",
    "df_fake_uni = create_df_from_sorted_dct(fake_unigrams)\n",
    "\n",
    "df_real_bi = create_df_from_sorted_dct(real_bigrams)\n",
    "df_fake_bi = create_df_from_sorted_dct(fake_bigrams)\n",
    "\n",
    "df_real_tri = create_df_from_sorted_dct(real_trigrams)\n",
    "df_fake_tri = create_df_from_sorted_dct(fake_trigrams)"
   ]
  },
  {
   "cell_type": "code",
   "execution_count": 25,
   "metadata": {},
   "outputs": [
    {
     "data": {
      "text/plain": [
       "<AxesSubplot:xlabel='frequency', ylabel='ngram'>"
      ]
     },
     "execution_count": 25,
     "metadata": {},
     "output_type": "execute_result"
    },
    {
     "data": {
      "image/png": "[encoded data removed]",
      "text/plain": [
       "<Figure size 432x288 with 1 Axes>"
      ]
     },
     "metadata": {
      "needs_background": "light"
     },
     "output_type": "display_data"
    }
   ],
   "source": [
    "# Real Unigram\n",
    "sns.barplot(y = 'ngram', x = 'frequency', data = df_real_uni)"
   ]
  },
  {
   "cell_type": "code",
   "execution_count": 26,
   "metadata": {},
   "outputs": [
    {
     "data": {
      "text/plain": [
       "<AxesSubplot:xlabel='frequency', ylabel='ngram'>"
      ]
     },
     "execution_count": 26,
     "metadata": {},
     "output_type": "execute_result"
    },
    {
     "data": {
      "image/png": "[encoded data removed]",
      "text/plain": [
       "<Figure size 432x288 with 1 Axes>"
      ]
     },
     "metadata": {
      "needs_background": "light"
     },
     "output_type": "display_data"
    }
   ],
   "source": [
    "# Fake Unigram\n",
    "sns.barplot(y = 'ngram', x = 'frequency', data = df_fake_uni)"
   ]
  },
  {
   "cell_type": "code",
   "execution_count": 27,
   "metadata": {},
   "outputs": [
    {
     "data": {
      "text/plain": [
       "<AxesSubplot:xlabel='frequency', ylabel='ngram'>"
      ]
     },
     "execution_count": 27,
     "metadata": {},
     "output_type": "execute_result"
    },
    {
     "data": {
      "image/png": "[encoded data removed]",
      "text/plain": [
       "<Figure size 432x288 with 1 Axes>"
      ]
     },
     "metadata": {
      "needs_background": "light"
     },
     "output_type": "display_data"
    }
   ],
   "source": [
    "# Real Bigram\n",
    "sns.barplot(y = 'ngram', x = 'frequency', data = df_real_bi)"
   ]
  },
  {
   "cell_type": "code",
   "execution_count": 28,
   "metadata": {},
   "outputs": [
    {
     "data": {
      "text/plain": [
       "<AxesSubplot:xlabel='frequency', ylabel='ngram'>"
      ]
     },
     "execution_count": 28,
     "metadata": {},
     "output_type": "execute_result"
    },
    {
     "data": {
      "image/png": "[encoded data removed]",
      "text/plain": [
       "<Figure size 432x288 with 1 Axes>"
      ]
     },
     "metadata": {
      "needs_background": "light"
     },
     "output_type": "display_data"
    }
   ],
   "source": [
    "# Fake Bigram\n",
    "sns.barplot(y = 'ngram', x = 'frequency', data = df_fake_bi)"
   ]
  },
  {
   "cell_type": "code",
   "execution_count": 29,
   "metadata": {},
   "outputs": [
    {
     "data": {
      "text/plain": [
       "<AxesSubplot:xlabel='frequency', ylabel='ngram'>"
      ]
     },
     "execution_count": 29,
     "metadata": {},
     "output_type": "execute_result"
    },
    {
     "data": {
      "image/png": "[encoded data removed]",
      "text/plain": [
       "<Figure size 432x288 with 1 Axes>"
      ]
     },
     "metadata": {
      "needs_background": "light"
     },
     "output_type": "display_data"
    }
   ],
   "source": [
    "# Real Trigram\n",
    "sns.barplot(y = 'ngram', x = 'frequency', data = df_real_tri)"
   ]
  },
  {
   "cell_type": "code",
   "execution_count": 30,
   "metadata": {},
   "outputs": [
    {
     "data": {
      "text/plain": [
       "<AxesSubplot:xlabel='frequency', ylabel='ngram'>"
      ]
     },
     "execution_count": 30,
     "metadata": {},
     "output_type": "execute_result"
    },
    {
     "data": {
      "image/png": "[encoded data removed]",
      "text/plain": [
       "<Figure size 432x288 with 1 Axes>"
      ]
     },
     "metadata": {
      "needs_background": "light"
     },
     "output_type": "display_data"
    }
   ],
   "source": [
    "# Fake Trigram\n",
    "sns.barplot(y = 'ngram', x = 'frequency', data = df_fake_tri)"
   ]
  },
  {
   "cell_type": "markdown",
   "metadata": {},
   "source": [
    "## Individual Topic Modeling from using GSDMM\n",
    "-  Gibbs sampling algorithm for a Dirichlet Mixture Model is more appropriate for short text and matches our assumption that there should only be one topic per row\n",
    "- https://github.com/rwalk/gsdmm"
   ]
  },
  {
   "cell_type": "code",
   "execution_count": 31,
   "metadata": {},
   "outputs": [
    {
     "name": "stdout",
     "output_type": "stream",
     "text": [
      "In stage 0: transferred 5859 clusters with 15 clusters populated\n",
      "In stage 1: transferred 2961 clusters with 15 clusters populated\n",
      "In stage 2: transferred 2132 clusters with 15 clusters populated\n",
      "In stage 3: transferred 1742 clusters with 15 clusters populated\n",
      "In stage 4: transferred 1626 clusters with 15 clusters populated\n",
      "In stage 5: transferred 1508 clusters with 15 clusters populated\n",
      "In stage 6: transferred 1418 clusters with 15 clusters populated\n",
      "In stage 7: transferred 1341 clusters with 15 clusters populated\n",
      "In stage 8: transferred 1296 clusters with 15 clusters populated\n",
      "In stage 9: transferred 1242 clusters with 15 clusters populated\n",
      "In stage 10: transferred 1192 clusters with 15 clusters populated\n",
      "In stage 11: transferred 1190 clusters with 15 clusters populated\n",
      "In stage 12: transferred 1197 clusters with 15 clusters populated\n",
      "In stage 13: transferred 1211 clusters with 15 clusters populated\n",
      "In stage 14: transferred 1171 clusters with 15 clusters populated\n"
     ]
    }
   ],
   "source": [
    "# input needs to be a list of lists of string\n",
    "lst_strings = df['lemmatized_text'].apply(lambda x: x.split(' '))\n",
    "gsdmm_docs = [list(filter(None, lst)) for lst in lst_strings] # remove blank strings\n",
    "gsdmm_docs = [x for x in gsdmm_docs if len(x) > 2]\n",
    "\n",
    "# create dictionary of all words in all documents\n",
    "gsdmm_dct = gensim.corpora.Dictionary(gsdmm_docs)\n",
    "\n",
    "# filter extreme cases out of dictionary\n",
    "gsdmm_dct.filter_extremes(no_below=15, no_above=0.5, keep_n=100000)\n",
    "\n",
    "# create variable containing length of dictionary/vocab\n",
    "vocab_length = len(gsdmm_dct)\n",
    "\n",
    "# create bag of words dictionary\n",
    "bow_corpus = [gsdmm_dct.doc2bow(doc) for doc in gsdmm_docs]\n",
    "\n",
    "# initialize GSDMM\n",
    "# arbitrary hyperparameters here, assume 15 clusters\n",
    "gsdmm = MovieGroupProcess(K=15, alpha=0.5, beta=0.1, n_iters=15)\n",
    "# Alpha controls the probability that a student will join a table that is currently empty\n",
    "# beta: Beta controls the student's affinity for other students with similar interests. Low means higher affinity and less on popularity\n",
    "\n",
    "# fit GSDMM model\n",
    "gsdmm_out = gsdmm.fit(gsdmm_docs, vocab_length)"
   ]
  },
  {
   "cell_type": "code",
   "execution_count": 32,
   "metadata": {},
   "outputs": [
    {
     "name": "stdout",
     "output_type": "stream",
     "text": [
      "Number of documents per topic : [ 389  405  453  470  508  352  658  543  389  399  374 1142  313  411\n",
      "  372]\n",
      "Most important clusters (by number of docs inside): [11  6  7  4  3  2 13  1  9  8  0 10 14  5 12]\n",
      "\n",
      "Cluster 11 : [('go', 112), ('will', 83), ('want', 72), ('make', 69), ('see', 63), ('people', 61), ('now', 60), ('time', 60), ('get', 60), ('good', 56), ('scream', 54), ('think', 54), ('let', 49), ('know', 49), ('love', 47), ('panic', 46), ('one', 45), ('come', 41), ('we', 40), ('blow', 39)]\n",
      "\n",
      "Cluster 6 : [('go', 64), ('one', 40), ('will', 37), ('school', 34), ('mudslide', 34), ('look', 32), ('say', 31), ('know', 30), ('year', 30), ('s', 29), ('crash', 28), ('drown', 28), ('survive', 27), ('failure', 26), ('cake', 24), ('back', 23), ('next', 23), ('get', 23), ('structural', 23), ('fire', 22)]\n",
      "\n",
      "Cluster 7 : [('body', 78), ('bag', 67), ('burn', 53), ('building', 39), ('new', 30), ('will', 30), ('fall', 30), ('cliff', 29), ('cross', 24), ('go', 23), ('meek', 21), ('shoulder', 20), ('get', 20), ('crush', 19), ('people', 18), ('man', 18), ('via', 18), ('live', 17), ('life', 17), ('handbag', 17)]\n",
      "\n",
      "Cluster 4 : [('weapon', 36), ('new', 35), ('nuclear', 35), ('will', 31), ('deal', 29), ('make', 25), ('iran', 25), ('disaster', 23), ('change', 23), ('go', 22), ('help', 22), ('think', 21), ('we', 21), ('first', 20), ('hostage', 19), ('well', 18), ('get', 18), ('see', 18), ('day', 17), ('good', 17)]\n",
      "\n",
      "Cluster 3 : [('fire', 194), ('building', 51), ('collapse', 42), ('forest', 41), ('california', 35), ('sinkhole', 34), ('burn', 33), ('evacuation', 29), ('home', 27), ('service', 27), ('bridge', 26), ('truck', 25), ('wild', 25), ('wildfire', 25), ('news', 24), ('two', 24), ('evacuate', 23), ('emergency', 19), ('order', 19), ('will', 18)]\n",
      "\n",
      "Cluster 2 : [('storm', 61), ('weather', 60), ('thunderstorm', 51), ('pm', 49), ('severe', 41), ('rain', 38), ('issue', 33), ('come', 31), ('hail', 31), ('fire', 30), ('calgary', 30), ('wind', 30), ('city', 28), ('warning', 26), ('derail', 25), ('august', 25), ('flood', 23), ('will', 22), ('train', 22), ('warn', 21)]\n",
      "\n",
      "Cluster 13 : [('year', 43), ('attack', 41), ('charge', 41), ('old', 35), ('mass', 35), ('via', 28), ('death', 28), ('boy', 27), ('murderer', 25), ('wave', 24), ('manslaughter', 23), ('flag', 20), ('fatal', 20), ('will', 19), ('israeli', 18), ('muslims', 17), ('man', 16), ('christian', 16), ('temple', 16), ('mount', 16)]\n",
      "\n",
      "Cluster 1 : [('suicide', 81), ('hiroshima', 79), ('kill', 68), ('bomb', 62), ('bombing', 61), ('atomic', 50), ('year', 46), ('japan', 39), ('saudi', 39), ('mosque', 35), ('attack', 34), ('anniversary', 34), ('nuclear', 32), ('bomber', 32), ('war', 31), ('still', 26), ('one', 23), ('weapon', 23), ('police', 22), ('today', 22)]\n",
      "\n",
      "Cluster 9 : [('california', 58), ('home', 55), ('emergency', 46), ('wildfire', 46), ('northern', 40), ('news', 39), ('m', 39), ('oil', 38), ('late', 37), ('spill', 34), ('raze', 31), ('earthquake', 28), ('fedex', 27), ('project', 27), ('attack', 26), ('s', 26), ('time', 26), ('p', 26), ('may', 26), ('big', 25)]\n",
      "\n",
      "Cluster 8 : [('train', 62), ('disaster', 62), ('family', 60), ('legionnaire', 47), ('obama', 47), ('news', 42), ('kill', 37), ('police', 36), ('wound', 36), ('outbreak', 35), ('devastate', 33), ('typhoon', 31), ('derailment', 29), ('sue', 29), ('affect', 29), ('officer', 29), ('fatal', 28), ('dead', 27), ('sign', 27), ('declare', 27)]\n",
      "\n",
      "Cluster 0 : [('year', 36), ('bomb', 33), ('traffic', 32), ('old', 28), ('rd', 27), ('release', 26), ('police', 25), ('detonate', 25), ('turkey', 25), ('take', 24), ('suicide', 24), ('emergency', 23), ('collision', 23), ('pkk', 23), ('bomber', 23), ('army', 22), ('trench', 22), ('accident', 21), ('will', 19), ('pic', 19)]\n",
      "\n",
      "Cluster 10 : [('crash', 44), ('fear', 40), ('kill', 37), ('migrant', 30), ('via', 26), ('food', 26), ('rescue', 25), ('will', 22), ('boat', 22), ('helicopter', 21), ('video', 20), ('youtube', 20), ('crisis', 19), ('famine', 19), ('news', 18), ('air', 16), ('ambulance', 16), ('memory', 16), ('hundred', 16), ('amid', 16)]\n",
      "\n",
      "Cluster 14 : [('body', 48), ('pick', 34), ('video', 28), ('loud', 28), ('bang', 28), ('news', 27), ('bag', 25), ('burn', 25), ('hear', 23), ('ass', 22), ('search', 21), ('water', 20), ('rescuer', 20), ('hostage', 19), ('army', 18), ('war', 18), ('hundred', 18), ('blast', 18), ('beyonce', 17), ('break', 17)]\n",
      "\n",
      "Cluster 5 : [('video', 64), ('youtube', 52), ('reddit', 38), ('wreck', 36), ('watch', 35), ('sandstorm', 29), ('like', 28), ('quarantine', 28), ('airport', 27), ('content', 26), ('minute', 25), ('swallow', 25), ('bestnaijamade', 24), ('knock', 21), ('new', 21), ('detonation', 21), ('sensor', 21), ('now', 20), ('ignition', 20), ('will', 19)]\n",
      "\n",
      "Cluster 12 : [('malaysia', 121), ('flight', 89), ('airlines', 69), ('debris', 47), ('confirm', 45), ('reunion', 40), ('find', 39), ('wreckage', 39), ('pm', 32), ('miss', 30), ('island', 27), ('accident', 25), ('conclusively', 25), ('family', 24), ('airplane', 23), ('investigator', 20), ('expert', 18), ('aircraft', 17), ('airline', 17), ('hijack', 17)]\n"
     ]
    }
   ],
   "source": [
    "# print number of documents per topic\n",
    "doc_count = np.array(gsdmm.cluster_doc_count)\n",
    "print('Number of documents per topic :', doc_count)\n",
    "\n",
    "# Topics sorted by the number of document they are allocated to\n",
    "top_index = doc_count.argsort()[-15:][::-1]\n",
    "print('Most important clusters (by number of docs inside):', top_index)\n",
    "\n",
    "# define function to get top words per topic\n",
    "def top_words(cluster_word_distribution, top_cluster, values):\n",
    "    for cluster in top_cluster:\n",
    "        sort_dicts = sorted(cluster_word_distribution[cluster].items(), key=lambda k: k[1], reverse=True)[:values]\n",
    "        print(\"\\nCluster %s : %s\"%(cluster, sort_dicts))\n",
    "\n",
    "# get top words in topic\n",
    "top_words(gsdmm.cluster_word_distribution, top_index, 20)"
   ]
  },
  {
   "cell_type": "code",
   "execution_count": 33,
   "metadata": {},
   "outputs": [],
   "source": [
    "# finally, lets get the cluster information for each text\n",
    "df['cluster'] = df['lemmatized_text'].str.split(' ').apply(lambda x: gsdmm.choose_best_label(x)[0])"
   ]
  },
  {
   "cell_type": "code",
   "execution_count": 34,
   "metadata": {},
   "outputs": [
    {
     "data": {
      "text/plain": [
       "<AxesSubplot:xlabel='cluster', ylabel='count'>"
      ]
     },
     "execution_count": 34,
     "metadata": {},
     "output_type": "execute_result"
    },
    {
     "data": {
      "image/png": "[encoded data removed]",
      "text/plain": [
       "<Figure size 432x288 with 1 Axes>"
      ]
     },
     "metadata": {
      "needs_background": "light"
     },
     "output_type": "display_data"
    }
   ],
   "source": [
    "sns.countplot(x = 'cluster', hue='real_or_fake', data=df)\n",
    "# some clusters perform better than others. clustering needs some optimization"
   ]
  },
  {
   "cell_type": "markdown",
   "metadata": {},
   "source": [
    "### Cluster 11 information:\n",
    "\n",
    "```\n",
    "Cluster 11 : [('go', 112), ('will', 83), ('want', 72), ('make', 69), ('see', 63), ('people', 61), ('now', 60), ('time', 60), ('get', 60), ('good', 56), ('scream', 54), ('think', 54), ('let', 49), ('know', 49), ('love', 47), ('panic', 46), ('one', 45), ('come', 41), ('we', 40), ('blow', 39)]\n",
    "```\n",
    "\n",
    "- No event specific words, so it makes sense that it has a high number of 0 for `real_or_fake`\n",
    "\n",
    "### Cluster 1, 2, and 3 information:\n",
    "\n",
    "- In contrast, let's check Clusters 1, 2, and 3, which have a relatively low number of \"fake\":\n",
    "\n",
    "```\n",
    "Cluster 1 : [('suicide', 81), ('hiroshima', 79), ('kill', 68), ('bomb', 62), ('bombing', 61), ('atomic', 50), ('year', 46), ('japan', 39), ('saudi', 39), ('mosque', 35), ('attack', 34), ('anniversary', 34), ('nuclear', 32), ('bomber', 32), ('war', 31), ('still', 26), ('one', 23), ('weapon', 23), ('police', 22), ('today', 22)]\n",
    "\n",
    "Cluster 2 : [('storm', 61), ('weather', 60), ('thunderstorm', 51), ('pm', 49), ('severe', 41), ('rain', 38), ('issue', 33), ('come', 31), ('hail', 31), ('fire', 30), ('calgary', 30), ('wind', 30), ('city', 28), ('warning', 26), ('derail', 25), ('august', 25), ('flood', 23), ('will', 22), ('train', 22), ('warn', 21)]\n",
    "\n",
    "Cluster 3 : [('fire', 194), ('building', 51), ('collapse', 42), ('forest', 41), ('california', 35), ('sinkhole', 34), ('burn', 33), ('evacuation', 29), ('home', 27), ('service', 27), ('bridge', 26), ('truck', 25), ('wild', 25), ('wildfire', 25), ('news', 24), ('two', 24), ('evacuate', 23), ('emergency', 19), ('order', 19), ('will', 18)]\n",
    "```\n",
    "\n",
    "We can see that it makes sense for these clusters have good separation between real and fake. These clusters could use some optimization, however.\n",
    "\n",
    "Now that we created our clusters, we can move on to vectorizing the lemmatized text\n"
   ]
  },
  {
   "cell_type": "markdown",
   "metadata": {},
   "source": [
    "## Create TF-IDF Vector Feature\n",
    "- vectorize text data into numerical format\n",
    "- **Term frequency - inverse document frequency**: quantify the importance of string representations in the context of the whole dataset\n",
    "- Proportionally accounts for the number of occurrences of a string in a Tweet, the number of Tweets containing that string, and the total number of Tweets\n"
   ]
  },
  {
   "cell_type": "code",
   "execution_count": 35,
   "metadata": {},
   "outputs": [],
   "source": [
    "vocab = set()\n",
    "for s in df['temp_docs']:\n",
    "    vocab.update(set(s))"
   ]
  },
  {
   "cell_type": "code",
   "execution_count": 36,
   "metadata": {},
   "outputs": [],
   "source": [
    "vectors = []\n",
    "for token in list(vocab):\n",
    "    vectors.append(token.vector)"
   ]
  },
  {
   "cell_type": "code",
   "execution_count": 37,
   "metadata": {},
   "outputs": [
    {
     "data": {
      "text/html": [
       "<div>\n",
       "<style scoped>\n",
       "    .dataframe tbody tr th:only-of-type {\n",
       "        vertical-align: middle;\n",
       "    }\n",
       "\n",
       "    .dataframe tbody tr th {\n",
       "        vertical-align: top;\n",
       "    }\n",
       "\n",
       "    .dataframe thead th {\n",
       "        text-align: right;\n",
       "    }\n",
       "</style>\n",
       "<table border=\"1\" class=\"dataframe\">\n",
       "  <thead>\n",
       "    <tr style=\"text-align: right;\">\n",
       "      <th></th>\n",
       "      <th>aa</th>\n",
       "      <th>aaaa</th>\n",
       "      <th>aaaaaaallll</th>\n",
       "      <th>aaaaaand</th>\n",
       "      <th>aaarrrgghhh</th>\n",
       "      <th>aaceorg</th>\n",
       "      <th>aal</th>\n",
       "      <th>aan</th>\n",
       "      <th>aannnnd</th>\n",
       "      <th>aar</th>\n",
       "      <th>...</th>\n",
       "      <th>zoom</th>\n",
       "      <th>zotar</th>\n",
       "      <th>zouma</th>\n",
       "      <th>zourryart</th>\n",
       "      <th>zrnf</th>\n",
       "      <th>zss</th>\n",
       "      <th>zumiez</th>\n",
       "      <th>zurich</th>\n",
       "      <th>zxathetis</th>\n",
       "      <th>zzzz</th>\n",
       "    </tr>\n",
       "  </thead>\n",
       "  <tbody>\n",
       "    <tr>\n",
       "      <th>0</th>\n",
       "      <td>0.0</td>\n",
       "      <td>0.0</td>\n",
       "      <td>0.0</td>\n",
       "      <td>0.0</td>\n",
       "      <td>0.0</td>\n",
       "      <td>0.0</td>\n",
       "      <td>0.0</td>\n",
       "      <td>0.0</td>\n",
       "      <td>0.0</td>\n",
       "      <td>0.0</td>\n",
       "      <td>...</td>\n",
       "      <td>0.0</td>\n",
       "      <td>0.0</td>\n",
       "      <td>0.0</td>\n",
       "      <td>0.0</td>\n",
       "      <td>0.0</td>\n",
       "      <td>0.0</td>\n",
       "      <td>0.0</td>\n",
       "      <td>0.0</td>\n",
       "      <td>0.0</td>\n",
       "      <td>0.0</td>\n",
       "    </tr>\n",
       "    <tr>\n",
       "      <th>1</th>\n",
       "      <td>0.0</td>\n",
       "      <td>0.0</td>\n",
       "      <td>0.0</td>\n",
       "      <td>0.0</td>\n",
       "      <td>0.0</td>\n",
       "      <td>0.0</td>\n",
       "      <td>0.0</td>\n",
       "      <td>0.0</td>\n",
       "      <td>0.0</td>\n",
       "      <td>0.0</td>\n",
       "      <td>...</td>\n",
       "      <td>0.0</td>\n",
       "      <td>0.0</td>\n",
       "      <td>0.0</td>\n",
       "      <td>0.0</td>\n",
       "      <td>0.0</td>\n",
       "      <td>0.0</td>\n",
       "      <td>0.0</td>\n",
       "      <td>0.0</td>\n",
       "      <td>0.0</td>\n",
       "      <td>0.0</td>\n",
       "    </tr>\n",
       "    <tr>\n",
       "      <th>2</th>\n",
       "      <td>0.0</td>\n",
       "      <td>0.0</td>\n",
       "      <td>0.0</td>\n",
       "      <td>0.0</td>\n",
       "      <td>0.0</td>\n",
       "      <td>0.0</td>\n",
       "      <td>0.0</td>\n",
       "      <td>0.0</td>\n",
       "      <td>0.0</td>\n",
       "      <td>0.0</td>\n",
       "      <td>...</td>\n",
       "      <td>0.0</td>\n",
       "      <td>0.0</td>\n",
       "      <td>0.0</td>\n",
       "      <td>0.0</td>\n",
       "      <td>0.0</td>\n",
       "      <td>0.0</td>\n",
       "      <td>0.0</td>\n",
       "      <td>0.0</td>\n",
       "      <td>0.0</td>\n",
       "      <td>0.0</td>\n",
       "    </tr>\n",
       "    <tr>\n",
       "      <th>3</th>\n",
       "      <td>0.0</td>\n",
       "      <td>0.0</td>\n",
       "      <td>0.0</td>\n",
       "      <td>0.0</td>\n",
       "      <td>0.0</td>\n",
       "      <td>0.0</td>\n",
       "      <td>0.0</td>\n",
       "      <td>0.0</td>\n",
       "      <td>0.0</td>\n",
       "      <td>0.0</td>\n",
       "      <td>...</td>\n",
       "      <td>0.0</td>\n",
       "      <td>0.0</td>\n",
       "      <td>0.0</td>\n",
       "      <td>0.0</td>\n",
       "      <td>0.0</td>\n",
       "      <td>0.0</td>\n",
       "      <td>0.0</td>\n",
       "      <td>0.0</td>\n",
       "      <td>0.0</td>\n",
       "      <td>0.0</td>\n",
       "    </tr>\n",
       "    <tr>\n",
       "      <th>4</th>\n",
       "      <td>0.0</td>\n",
       "      <td>0.0</td>\n",
       "      <td>0.0</td>\n",
       "      <td>0.0</td>\n",
       "      <td>0.0</td>\n",
       "      <td>0.0</td>\n",
       "      <td>0.0</td>\n",
       "      <td>0.0</td>\n",
       "      <td>0.0</td>\n",
       "      <td>0.0</td>\n",
       "      <td>...</td>\n",
       "      <td>0.0</td>\n",
       "      <td>0.0</td>\n",
       "      <td>0.0</td>\n",
       "      <td>0.0</td>\n",
       "      <td>0.0</td>\n",
       "      <td>0.0</td>\n",
       "      <td>0.0</td>\n",
       "      <td>0.0</td>\n",
       "      <td>0.0</td>\n",
       "      <td>0.0</td>\n",
       "    </tr>\n",
       "    <tr>\n",
       "      <th>...</th>\n",
       "      <td>...</td>\n",
       "      <td>...</td>\n",
       "      <td>...</td>\n",
       "      <td>...</td>\n",
       "      <td>...</td>\n",
       "      <td>...</td>\n",
       "      <td>...</td>\n",
       "      <td>...</td>\n",
       "      <td>...</td>\n",
       "      <td>...</td>\n",
       "      <td>...</td>\n",
       "      <td>...</td>\n",
       "      <td>...</td>\n",
       "      <td>...</td>\n",
       "      <td>...</td>\n",
       "      <td>...</td>\n",
       "      <td>...</td>\n",
       "      <td>...</td>\n",
       "      <td>...</td>\n",
       "      <td>...</td>\n",
       "      <td>...</td>\n",
       "    </tr>\n",
       "    <tr>\n",
       "      <th>7377</th>\n",
       "      <td>0.0</td>\n",
       "      <td>0.0</td>\n",
       "      <td>0.0</td>\n",
       "      <td>0.0</td>\n",
       "      <td>0.0</td>\n",
       "      <td>0.0</td>\n",
       "      <td>0.0</td>\n",
       "      <td>0.0</td>\n",
       "      <td>0.0</td>\n",
       "      <td>0.0</td>\n",
       "      <td>...</td>\n",
       "      <td>0.0</td>\n",
       "      <td>0.0</td>\n",
       "      <td>0.0</td>\n",
       "      <td>0.0</td>\n",
       "      <td>0.0</td>\n",
       "      <td>0.0</td>\n",
       "      <td>0.0</td>\n",
       "      <td>0.0</td>\n",
       "      <td>0.0</td>\n",
       "      <td>0.0</td>\n",
       "    </tr>\n",
       "    <tr>\n",
       "      <th>7378</th>\n",
       "      <td>0.0</td>\n",
       "      <td>0.0</td>\n",
       "      <td>0.0</td>\n",
       "      <td>0.0</td>\n",
       "      <td>0.0</td>\n",
       "      <td>0.0</td>\n",
       "      <td>0.0</td>\n",
       "      <td>0.0</td>\n",
       "      <td>0.0</td>\n",
       "      <td>0.0</td>\n",
       "      <td>...</td>\n",
       "      <td>0.0</td>\n",
       "      <td>0.0</td>\n",
       "      <td>0.0</td>\n",
       "      <td>0.0</td>\n",
       "      <td>0.0</td>\n",
       "      <td>0.0</td>\n",
       "      <td>0.0</td>\n",
       "      <td>0.0</td>\n",
       "      <td>0.0</td>\n",
       "      <td>0.0</td>\n",
       "    </tr>\n",
       "    <tr>\n",
       "      <th>7379</th>\n",
       "      <td>0.0</td>\n",
       "      <td>0.0</td>\n",
       "      <td>0.0</td>\n",
       "      <td>0.0</td>\n",
       "      <td>0.0</td>\n",
       "      <td>0.0</td>\n",
       "      <td>0.0</td>\n",
       "      <td>0.0</td>\n",
       "      <td>0.0</td>\n",
       "      <td>0.0</td>\n",
       "      <td>...</td>\n",
       "      <td>0.0</td>\n",
       "      <td>0.0</td>\n",
       "      <td>0.0</td>\n",
       "      <td>0.0</td>\n",
       "      <td>0.0</td>\n",
       "      <td>0.0</td>\n",
       "      <td>0.0</td>\n",
       "      <td>0.0</td>\n",
       "      <td>0.0</td>\n",
       "      <td>0.0</td>\n",
       "    </tr>\n",
       "    <tr>\n",
       "      <th>7380</th>\n",
       "      <td>0.0</td>\n",
       "      <td>0.0</td>\n",
       "      <td>0.0</td>\n",
       "      <td>0.0</td>\n",
       "      <td>0.0</td>\n",
       "      <td>0.0</td>\n",
       "      <td>0.0</td>\n",
       "      <td>0.0</td>\n",
       "      <td>0.0</td>\n",
       "      <td>0.0</td>\n",
       "      <td>...</td>\n",
       "      <td>0.0</td>\n",
       "      <td>0.0</td>\n",
       "      <td>0.0</td>\n",
       "      <td>0.0</td>\n",
       "      <td>0.0</td>\n",
       "      <td>0.0</td>\n",
       "      <td>0.0</td>\n",
       "      <td>0.0</td>\n",
       "      <td>0.0</td>\n",
       "      <td>0.0</td>\n",
       "    </tr>\n",
       "    <tr>\n",
       "      <th>7381</th>\n",
       "      <td>0.0</td>\n",
       "      <td>0.0</td>\n",
       "      <td>0.0</td>\n",
       "      <td>0.0</td>\n",
       "      <td>0.0</td>\n",
       "      <td>0.0</td>\n",
       "      <td>0.0</td>\n",
       "      <td>0.0</td>\n",
       "      <td>0.0</td>\n",
       "      <td>0.0</td>\n",
       "      <td>...</td>\n",
       "      <td>0.0</td>\n",
       "      <td>0.0</td>\n",
       "      <td>0.0</td>\n",
       "      <td>0.0</td>\n",
       "      <td>0.0</td>\n",
       "      <td>0.0</td>\n",
       "      <td>0.0</td>\n",
       "      <td>0.0</td>\n",
       "      <td>0.0</td>\n",
       "      <td>0.0</td>\n",
       "    </tr>\n",
       "  </tbody>\n",
       "</table>\n",
       "<p>7382 rows × 13936 columns</p>\n",
       "</div>"
      ],
      "text/plain": [
       "       aa  aaaa  aaaaaaallll  aaaaaand  aaarrrgghhh  aaceorg  aal  aan  \\\n",
       "0     0.0   0.0          0.0       0.0          0.0      0.0  0.0  0.0   \n",
       "1     0.0   0.0          0.0       0.0          0.0      0.0  0.0  0.0   \n",
       "2     0.0   0.0          0.0       0.0          0.0      0.0  0.0  0.0   \n",
       "3     0.0   0.0          0.0       0.0          0.0      0.0  0.0  0.0   \n",
       "4     0.0   0.0          0.0       0.0          0.0      0.0  0.0  0.0   \n",
       "...   ...   ...          ...       ...          ...      ...  ...  ...   \n",
       "7377  0.0   0.0          0.0       0.0          0.0      0.0  0.0  0.0   \n",
       "7378  0.0   0.0          0.0       0.0          0.0      0.0  0.0  0.0   \n",
       "7379  0.0   0.0          0.0       0.0          0.0      0.0  0.0  0.0   \n",
       "7380  0.0   0.0          0.0       0.0          0.0      0.0  0.0  0.0   \n",
       "7381  0.0   0.0          0.0       0.0          0.0      0.0  0.0  0.0   \n",
       "\n",
       "      aannnnd  aar  ...  zoom  zotar  zouma  zourryart  zrnf  zss  zumiez  \\\n",
       "0         0.0  0.0  ...   0.0    0.0    0.0        0.0   0.0  0.0     0.0   \n",
       "1         0.0  0.0  ...   0.0    0.0    0.0        0.0   0.0  0.0     0.0   \n",
       "2         0.0  0.0  ...   0.0    0.0    0.0        0.0   0.0  0.0     0.0   \n",
       "3         0.0  0.0  ...   0.0    0.0    0.0        0.0   0.0  0.0     0.0   \n",
       "4         0.0  0.0  ...   0.0    0.0    0.0        0.0   0.0  0.0     0.0   \n",
       "...       ...  ...  ...   ...    ...    ...        ...   ...  ...     ...   \n",
       "7377      0.0  0.0  ...   0.0    0.0    0.0        0.0   0.0  0.0     0.0   \n",
       "7378      0.0  0.0  ...   0.0    0.0    0.0        0.0   0.0  0.0     0.0   \n",
       "7379      0.0  0.0  ...   0.0    0.0    0.0        0.0   0.0  0.0     0.0   \n",
       "7380      0.0  0.0  ...   0.0    0.0    0.0        0.0   0.0  0.0     0.0   \n",
       "7381      0.0  0.0  ...   0.0    0.0    0.0        0.0   0.0  0.0     0.0   \n",
       "\n",
       "      zurich  zxathetis  zzzz  \n",
       "0        0.0        0.0   0.0  \n",
       "1        0.0        0.0   0.0  \n",
       "2        0.0        0.0   0.0  \n",
       "3        0.0        0.0   0.0  \n",
       "4        0.0        0.0   0.0  \n",
       "...      ...        ...   ...  \n",
       "7377     0.0        0.0   0.0  \n",
       "7378     0.0        0.0   0.0  \n",
       "7379     0.0        0.0   0.0  \n",
       "7380     0.0        0.0   0.0  \n",
       "7381     0.0        0.0   0.0  \n",
       "\n",
       "[7382 rows x 13936 columns]"
      ]
     },
     "execution_count": 37,
     "metadata": {},
     "output_type": "execute_result"
    }
   ],
   "source": [
    "vect = TfidfVectorizer()\n",
    "tfidf_matrix = vect.fit_transform(df['lemmatized_text'])\n",
    "results_df = pd.DataFrame(tfidf_matrix.toarray(), columns = vect.get_feature_names_out())\n",
    "results_df\n",
    "\n",
    "# wow, we really need to clean this dataset up better at future passes"
   ]
  },
  {
   "cell_type": "code",
   "execution_count": 38,
   "metadata": {},
   "outputs": [],
   "source": [
    "cluster_array = pd.get_dummies(data = df['cluster'], columns=['cluster']) # dummy variables for clusters"
   ]
  },
  {
   "cell_type": "code",
   "execution_count": 39,
   "metadata": {},
   "outputs": [],
   "source": [
    "X_cluster = cluster_array.to_numpy()"
   ]
  },
  {
   "cell_type": "code",
   "execution_count": 40,
   "metadata": {},
   "outputs": [],
   "source": [
    "X_tfidf = tfidf_matrix.toarray()"
   ]
  },
  {
   "cell_type": "code",
   "execution_count": 41,
   "metadata": {},
   "outputs": [],
   "source": [
    "X = np.concatenate((X_cluster, X_tfidf), axis=1) # concatenate arrays into 1 array"
   ]
  },
  {
   "cell_type": "code",
   "execution_count": 42,
   "metadata": {},
   "outputs": [],
   "source": [
    "y = df['real_or_fake']\n",
    "# 80/20/split\n",
    "X_train, X_test, y_train, y_test = train_test_split(X, y, test_size=0.2, stratify=df['cluster'], shuffle=True)"
   ]
  },
  {
   "cell_type": "code",
   "execution_count": 43,
   "metadata": {},
   "outputs": [],
   "source": [
    "# Initialize SVM classifier\n",
    "svm_clf = svm.SVC(kernel='linear')\n",
    "svm_clf = svm_clf.fit(X_train, y_train)"
   ]
  },
  {
   "cell_type": "code",
   "execution_count": 44,
   "metadata": {},
   "outputs": [],
   "source": [
    "svm_y_pred = svm_clf.predict(X_test)"
   ]
  },
  {
   "cell_type": "markdown",
   "metadata": {},
   "source": [
    "## Plot Confusion Matrix"
   ]
  },
  {
   "cell_type": "code",
   "execution_count": 45,
   "metadata": {},
   "outputs": [
    {
     "name": "stderr",
     "output_type": "stream",
     "text": [
      "/Users/johntan/opt/miniconda3/lib/python3.7/site-packages/sklearn/utils/deprecation.py:87: FutureWarning: Function plot_confusion_matrix is deprecated; Function `plot_confusion_matrix` is deprecated in 1.0 and will be removed in 1.2. Use one of the class methods: ConfusionMatrixDisplay.from_predictions or ConfusionMatrixDisplay.from_estimator.\n",
      "  warnings.warn(msg, category=FutureWarning)\n"
     ]
    },
    {
     "data": {
      "image/png": "[encoded data removed]",
      "text/plain": [
       "<Figure size 432x288 with 2 Axes>"
      ]
     },
     "metadata": {
      "needs_background": "light"
     },
     "output_type": "display_data"
    }
   ],
   "source": [
    "matrix = plot_confusion_matrix(svm_clf, X_test, y_test,\n",
    "                                 cmap=plt.cm.Blues,\n",
    "                                 normalize='true')\n",
    "plt.title('Confusion matrix for our classifier')\n",
    "plt.show(matrix)\n",
    "plt.show()"
   ]
  },
  {
   "cell_type": "markdown",
   "metadata": {},
   "source": [
    "## Model Scoring"
   ]
  },
  {
   "cell_type": "code",
   "execution_count": 46,
   "metadata": {},
   "outputs": [],
   "source": [
    "def metrics_fx(y_true, y_pred):\n",
    "    \n",
    "    accuracy = metrics.accuracy_score(y_true, y_pred)\n",
    "    precision = metrics.precision_score(y_true, y_pred)\n",
    "    recall = metrics.recall_score(y_true, y_pred)\n",
    "    auc = metrics.roc_auc_score(y_true, y_pred)\n",
    "    f1 = metrics.f1_score(y_true, y_pred)\n",
    "    \n",
    "    return pd.DataFrame([accuracy, precision, recall, auc, f1], index = ['Accuracy', 'Precision', 'Recall', 'AUC', 'F1'])"
   ]
  },
  {
   "cell_type": "code",
   "execution_count": 47,
   "metadata": {},
   "outputs": [
    {
     "data": {
      "text/html": [
       "<div>\n",
       "<style scoped>\n",
       "    .dataframe tbody tr th:only-of-type {\n",
       "        vertical-align: middle;\n",
       "    }\n",
       "\n",
       "    .dataframe tbody tr th {\n",
       "        vertical-align: top;\n",
       "    }\n",
       "\n",
       "    .dataframe thead th {\n",
       "        text-align: right;\n",
       "    }\n",
       "</style>\n",
       "<table border=\"1\" class=\"dataframe\">\n",
       "  <thead>\n",
       "    <tr style=\"text-align: right;\">\n",
       "      <th></th>\n",
       "      <th>0</th>\n",
       "    </tr>\n",
       "  </thead>\n",
       "  <tbody>\n",
       "    <tr>\n",
       "      <th>Accuracy</th>\n",
       "      <td>0.836831</td>\n",
       "    </tr>\n",
       "    <tr>\n",
       "      <th>Precision</th>\n",
       "      <td>0.858473</td>\n",
       "    </tr>\n",
       "    <tr>\n",
       "      <th>Recall</th>\n",
       "      <td>0.736422</td>\n",
       "    </tr>\n",
       "    <tr>\n",
       "      <th>AUC</th>\n",
       "      <td>0.823558</td>\n",
       "    </tr>\n",
       "    <tr>\n",
       "      <th>F1</th>\n",
       "      <td>0.792777</td>\n",
       "    </tr>\n",
       "  </tbody>\n",
       "</table>\n",
       "</div>"
      ],
      "text/plain": [
       "                  0\n",
       "Accuracy   0.836831\n",
       "Precision  0.858473\n",
       "Recall     0.736422\n",
       "AUC        0.823558\n",
       "F1         0.792777"
      ]
     },
     "execution_count": 47,
     "metadata": {},
     "output_type": "execute_result"
    }
   ],
   "source": [
    "results_metrics = metrics_fx(y_test, svm_y_pred)\n",
    "results_metrics"
   ]
  },
  {
   "cell_type": "markdown",
   "metadata": {},
   "source": [
    "## Cross-Validation\n"
   ]
  },
  {
   "cell_type": "code",
   "execution_count": 48,
   "metadata": {},
   "outputs": [],
   "source": [
    "# Don't run, WILL CRASH\n",
    "\n",
    "# cv = RepeatedKFold(n_splits=10, n_repeats=3)\n",
    "# scores = cross_val_score(svm_clf, X, y, scoring='accuracy', cv=cv, n_jobs=-1)\n",
    "# print('Accuracy: %.3f (%.3f)' % (mean(scores), std(scores)))"
   ]
  },
  {
   "cell_type": "markdown",
   "metadata": {},
   "source": [
    "# Comparison to HuggingFace's ![AutoNLP](https://huggingface.co/autonlp)\n",
    "\n",
    "Input: `short_text` and `real_or_fake`"
   ]
  },
  {
   "cell_type": "code",
   "execution_count": 49,
   "metadata": {},
   "outputs": [],
   "source": [
    "results_metrics.columns = ['Mine']\n",
    "results_metrics['HuggingFace'] = [0.8589238845144357, 0.8754266211604096, 0.783206106870229, 0.8951976036332013, 0.8267526188557615]"
   ]
  },
  {
   "cell_type": "code",
   "execution_count": 50,
   "metadata": {},
   "outputs": [
    {
     "data": {
      "text/html": [
       "<div>\n",
       "<style scoped>\n",
       "    .dataframe tbody tr th:only-of-type {\n",
       "        vertical-align: middle;\n",
       "    }\n",
       "\n",
       "    .dataframe tbody tr th {\n",
       "        vertical-align: top;\n",
       "    }\n",
       "\n",
       "    .dataframe thead th {\n",
       "        text-align: right;\n",
       "    }\n",
       "</style>\n",
       "<table border=\"1\" class=\"dataframe\">\n",
       "  <thead>\n",
       "    <tr style=\"text-align: right;\">\n",
       "      <th></th>\n",
       "      <th>Mine</th>\n",
       "      <th>HuggingFace</th>\n",
       "    </tr>\n",
       "  </thead>\n",
       "  <tbody>\n",
       "    <tr>\n",
       "      <th>Accuracy</th>\n",
       "      <td>0.837</td>\n",
       "      <td>0.859</td>\n",
       "    </tr>\n",
       "    <tr>\n",
       "      <th>Precision</th>\n",
       "      <td>0.858</td>\n",
       "      <td>0.875</td>\n",
       "    </tr>\n",
       "    <tr>\n",
       "      <th>Recall</th>\n",
       "      <td>0.736</td>\n",
       "      <td>0.783</td>\n",
       "    </tr>\n",
       "    <tr>\n",
       "      <th>AUC</th>\n",
       "      <td>0.824</td>\n",
       "      <td>0.895</td>\n",
       "    </tr>\n",
       "    <tr>\n",
       "      <th>F1</th>\n",
       "      <td>0.793</td>\n",
       "      <td>0.827</td>\n",
       "    </tr>\n",
       "  </tbody>\n",
       "</table>\n",
       "</div>"
      ],
      "text/plain": [
       "            Mine  HuggingFace\n",
       "Accuracy   0.837        0.859\n",
       "Precision  0.858        0.875\n",
       "Recall     0.736        0.783\n",
       "AUC        0.824        0.895\n",
       "F1         0.793        0.827"
      ]
     },
     "execution_count": 50,
     "metadata": {},
     "output_type": "execute_result"
    }
   ],
   "source": [
    "results_metrics.round(3)\n",
    "# So close!"
   ]
  },
  {
   "cell_type": "markdown",
   "metadata": {},
   "source": [
    "# Conclusions\n",
    "\n",
    "- Data needs to be cleaned more. Slang strings and informal writing (i.e. “aaaaaaannnnnndddd,” “loooooooooool”) need to be accounted for\n",
    "- Clustering via GSDMM hyperparameters could be optimized better\n",
    "- Better vectorization strategy than TF-IDF\n",
    "- External validation - connect with Twitter API and see how well new Tweets can detect events\n",
    "- If possible, train the model on only verified Twitter accounts to reduce noise and increase possibility of “real”\n"
   ]
  }
 ],
 "metadata": {
  "interpreter": {
   "hash": "e1625e0c03a7959e634b7eef092cb4d24e9513629de3e484aacca6c7ea34245e"
  },
  "kernelspec": {
   "display_name": "Python 3.9.0 ('python39')",
   "language": "python",
   "name": "python3"
  },
  "language_info": {
   "codemirror_mode": {
    "name": "ipython",
    "version": 3
   },
   "file_extension": ".py",
   "mimetype": "text/x-python",
   "name": "python",
   "nbconvert_exporter": "python",
   "pygments_lexer": "ipython3",
   "version": "3.7.11"
  },
  "orig_nbformat": 4
 },
 "nbformat": 4,
 "nbformat_minor": 2
}
