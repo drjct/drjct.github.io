{
 "cells": [
  {
   "cell_type": "markdown",
   "metadata": {},
   "source": [
    "# Huckleberry Labs Interview\n",
    "\n",
    "Prompt:\n",
    "\n",
    "```\n",
    "1. Read the data\n",
    "\n",
    "2. Prepare the data for modeling the value in the column named \"real_or_fake?\" (1 for real and 0 for fake)\n",
    "\n",
    "3. Model the prediction of the column named \"real_or_fake?\"\n",
    "\n",
    "4. Show how you have developed the method of scoring the models\n",
    "\n",
    "5. The modeling with the best metric is far less important than the methodology used to perform steps 2-4\n",
    "```"
   ]
  },
  {
   "cell_type": "code",
   "execution_count": 350,
   "metadata": {},
   "outputs": [],
   "source": [
    "import string\n",
    "import contractions\n",
    "from spellchecker import SpellChecker\n",
    "from wordcloud import STOPWORDS\n",
    "from collections import defaultdict\n",
    "\n",
    "from sklearn.model_selection import train_test_split\n",
    "from sklearn.model_selection import RepeatedKFold\n",
    "from sklearn.model_selection import cross_val_score\n",
    "from sklearn.feature_extraction.text import TfidfVectorizer, TfidfTransformer\n",
    "\n",
    "from sklearn import metrics\n",
    "from sklearn.metrics import plot_confusion_matrix\n",
    "\n",
    "from sklearn import svm\n",
    "from sklearn.linear_model import LogisticRegression\n",
    "\n",
    "\n",
    "import pandas as pd\n",
    "import numpy as np\n",
    "\n",
    "import matplotlib.pyplot as plt\n",
    "import seaborn as sns\n",
    "\n",
    "import spacy\n",
    "\n",
    "import gensim\n",
    "from gsdmm import MovieGroupProcess\n",
    "\n",
    "pd.options.mode.chained_assignment = None "
   ]
  },
  {
   "cell_type": "code",
   "execution_count": 2,
   "metadata": {},
   "outputs": [],
   "source": [
    "sns.set_context(\"notebook\")"
   ]
  },
  {
   "cell_type": "code",
   "execution_count": 360,
   "metadata": {},
   "outputs": [],
   "source": [
    "np.random.seed(42)"
   ]
  },
  {
   "cell_type": "code",
   "execution_count": 62,
   "metadata": {},
   "outputs": [],
   "source": [
    "nlp = spacy.load(\"en_core_web_lg\")"
   ]
  },
  {
   "cell_type": "markdown",
   "metadata": {},
   "source": [
    "## Load the data\n"
   ]
  },
  {
   "cell_type": "code",
   "execution_count": 4,
   "metadata": {},
   "outputs": [],
   "source": [
    "df = pd.read_csv('presentation_data.csv')"
   ]
  },
  {
   "cell_type": "code",
   "execution_count": 5,
   "metadata": {},
   "outputs": [
    {
     "data": {
      "text/html": [
       "<div>\n",
       "<style scoped>\n",
       "    .dataframe tbody tr th:only-of-type {\n",
       "        vertical-align: middle;\n",
       "    }\n",
       "\n",
       "    .dataframe tbody tr th {\n",
       "        vertical-align: top;\n",
       "    }\n",
       "\n",
       "    .dataframe thead th {\n",
       "        text-align: right;\n",
       "    }\n",
       "</style>\n",
       "<table border=\"1\" class=\"dataframe\">\n",
       "  <thead>\n",
       "    <tr style=\"text-align: right;\">\n",
       "      <th></th>\n",
       "      <th>index_val</th>\n",
       "      <th>type_val</th>\n",
       "      <th>place</th>\n",
       "      <th>short_text</th>\n",
       "      <th>real_or_fake</th>\n",
       "    </tr>\n",
       "  </thead>\n",
       "  <tbody>\n",
       "    <tr>\n",
       "      <th>0</th>\n",
       "      <td>1</td>\n",
       "      <td>NaN</td>\n",
       "      <td>NaN</td>\n",
       "      <td>Our Deeds are the Reason of this  # earthquake...</td>\n",
       "      <td>1</td>\n",
       "    </tr>\n",
       "    <tr>\n",
       "      <th>1</th>\n",
       "      <td>4</td>\n",
       "      <td>NaN</td>\n",
       "      <td>NaN</td>\n",
       "      <td>Forest fire near La Ronge Sask .  Canada</td>\n",
       "      <td>1</td>\n",
       "    </tr>\n",
       "    <tr>\n",
       "      <th>2</th>\n",
       "      <td>5</td>\n",
       "      <td>NaN</td>\n",
       "      <td>NaN</td>\n",
       "      <td>All residents asked to  ' shelter in place '  ...</td>\n",
       "      <td>1</td>\n",
       "    </tr>\n",
       "    <tr>\n",
       "      <th>3</th>\n",
       "      <td>6</td>\n",
       "      <td>NaN</td>\n",
       "      <td>NaN</td>\n",
       "      <td>13,000 people receive  # wildfires evacuation ...</td>\n",
       "      <td>1</td>\n",
       "    </tr>\n",
       "    <tr>\n",
       "      <th>4</th>\n",
       "      <td>7</td>\n",
       "      <td>NaN</td>\n",
       "      <td>NaN</td>\n",
       "      <td>Just got sent this photo from Ruby  # Alaska a...</td>\n",
       "      <td>1</td>\n",
       "    </tr>\n",
       "    <tr>\n",
       "      <th>...</th>\n",
       "      <td>...</td>\n",
       "      <td>...</td>\n",
       "      <td>...</td>\n",
       "      <td>...</td>\n",
       "      <td>...</td>\n",
       "    </tr>\n",
       "    <tr>\n",
       "      <th>7608</th>\n",
       "      <td>10869</td>\n",
       "      <td>NaN</td>\n",
       "      <td>NaN</td>\n",
       "      <td>Two giant cranes holding a bridge collapse int...</td>\n",
       "      <td>1</td>\n",
       "    </tr>\n",
       "    <tr>\n",
       "      <th>7609</th>\n",
       "      <td>10870</td>\n",
       "      <td>NaN</td>\n",
       "      <td>NaN</td>\n",
       "      <td>@ Aria Ahrary  @ TheTawniest The out of contr...</td>\n",
       "      <td>1</td>\n",
       "    </tr>\n",
       "    <tr>\n",
       "      <th>7610</th>\n",
       "      <td>10871</td>\n",
       "      <td>NaN</td>\n",
       "      <td>NaN</td>\n",
       "      <td>M1 . 94  [ 01 : 04 UTC ]  ? 5km S of Volcano H...</td>\n",
       "      <td>1</td>\n",
       "    </tr>\n",
       "    <tr>\n",
       "      <th>7611</th>\n",
       "      <td>10872</td>\n",
       "      <td>NaN</td>\n",
       "      <td>NaN</td>\n",
       "      <td>Police investigating after an e - bike collide...</td>\n",
       "      <td>1</td>\n",
       "    </tr>\n",
       "    <tr>\n",
       "      <th>7612</th>\n",
       "      <td>10873</td>\n",
       "      <td>NaN</td>\n",
       "      <td>NaN</td>\n",
       "      <td>The Latest :  More Homes Razed by Northern Cal...</td>\n",
       "      <td>1</td>\n",
       "    </tr>\n",
       "  </tbody>\n",
       "</table>\n",
       "<p>7613 rows × 5 columns</p>\n",
       "</div>"
      ],
      "text/plain": [
       "      index_val type_val place  \\\n",
       "0             1      NaN   NaN   \n",
       "1             4      NaN   NaN   \n",
       "2             5      NaN   NaN   \n",
       "3             6      NaN   NaN   \n",
       "4             7      NaN   NaN   \n",
       "...         ...      ...   ...   \n",
       "7608      10869      NaN   NaN   \n",
       "7609      10870      NaN   NaN   \n",
       "7610      10871      NaN   NaN   \n",
       "7611      10872      NaN   NaN   \n",
       "7612      10873      NaN   NaN   \n",
       "\n",
       "                                             short_text  real_or_fake  \n",
       "0     Our Deeds are the Reason of this  # earthquake...             1  \n",
       "1              Forest fire near La Ronge Sask .  Canada             1  \n",
       "2     All residents asked to  ' shelter in place '  ...             1  \n",
       "3     13,000 people receive  # wildfires evacuation ...             1  \n",
       "4     Just got sent this photo from Ruby  # Alaska a...             1  \n",
       "...                                                 ...           ...  \n",
       "7608  Two giant cranes holding a bridge collapse int...             1  \n",
       "7609   @ Aria Ahrary  @ TheTawniest The out of contr...             1  \n",
       "7610  M1 . 94  [ 01 : 04 UTC ]  ? 5km S of Volcano H...             1  \n",
       "7611  Police investigating after an e - bike collide...             1  \n",
       "7612  The Latest :  More Homes Razed by Northern Cal...             1  \n",
       "\n",
       "[7613 rows x 5 columns]"
      ]
     },
     "execution_count": 5,
     "metadata": {},
     "output_type": "execute_result"
    }
   ],
   "source": [
    "df"
   ]
  },
  {
   "cell_type": "code",
   "execution_count": 6,
   "metadata": {},
   "outputs": [
    {
     "data": {
      "text/plain": [
       "<AxesSubplot:xlabel='real_or_fake', ylabel='count'>"
      ]
     },
     "execution_count": 6,
     "metadata": {},
     "output_type": "execute_result"
    },
    {
     "data": {
      "image/png": "[encoded data removed]",
      "text/plain": [
       "<Figure size 432x288 with 1 Axes>"
      ]
     },
     "metadata": {
      "needs_background": "light"
     },
     "output_type": "display_data"
    }
   ],
   "source": [
    "sns.countplot(x = 'real_or_fake', data=df) # not bad"
   ]
  },
  {
   "cell_type": "markdown",
   "metadata": {},
   "source": [
    "## Impressions\n",
    "- This text data seems to be Twitter data, which means that `place` will not be useful because this field is generated by the user and doesn't necessarily contain a real place\n",
    "- Let's see if `type_val` contains any useful information"
   ]
  },
  {
   "cell_type": "code",
   "execution_count": 7,
   "metadata": {},
   "outputs": [],
   "source": [
    "real_type_val = df.query(\"real_or_fake == 1\")['type_val'].value_counts().reset_index().iloc[0:20]\n",
    "fake_type_val = df.query(\"real_or_fake == 0\")['type_val'].value_counts().reset_index().iloc[0:20]"
   ]
  },
  {
   "cell_type": "code",
   "execution_count": 8,
   "metadata": {},
   "outputs": [
    {
     "data": {
      "text/plain": [
       "<AxesSubplot:xlabel='type_val', ylabel='index'>"
      ]
     },
     "execution_count": 8,
     "metadata": {},
     "output_type": "execute_result"
    },
    {
     "data": {
      "image/png": "[encoded data removed]",
      "text/plain": [
       "<Figure size 432x288 with 1 Axes>"
      ]
     },
     "metadata": {
      "needs_background": "light"
     },
     "output_type": "display_data"
    }
   ],
   "source": [
    "sns.barplot(y = 'index', x = 'type_val', data = fake_type_val)"
   ]
  },
  {
   "cell_type": "markdown",
   "metadata": {},
   "source": [
    "- `type_val` may contain useful information since there is good separation between real and fake but it requires heavy cleaning\n",
    "- for the model to be properly robust, especially for new data, we should use topic modeling to create our own `type_val`\n",
    "- Use raw text data for topic modeling"
   ]
  },
  {
   "cell_type": "markdown",
   "metadata": {},
   "source": [
    "## Pre-processing of Raw Text Data"
   ]
  },
  {
   "cell_type": "code",
   "execution_count": 9,
   "metadata": {},
   "outputs": [
    {
     "data": {
      "text/plain": [
       "True"
      ]
     },
     "execution_count": 9,
     "metadata": {},
     "output_type": "execute_result"
    }
   ],
   "source": [
    "len(df['index_val'].unique()) == len(df['index_val']) # check for duplicate indexes"
   ]
  },
  {
   "cell_type": "code",
   "execution_count": 10,
   "metadata": {},
   "outputs": [
    {
     "data": {
      "text/html": [
       "<div>\n",
       "<style scoped>\n",
       "    .dataframe tbody tr th:only-of-type {\n",
       "        vertical-align: middle;\n",
       "    }\n",
       "\n",
       "    .dataframe tbody tr th {\n",
       "        vertical-align: top;\n",
       "    }\n",
       "\n",
       "    .dataframe thead th {\n",
       "        text-align: right;\n",
       "    }\n",
       "</style>\n",
       "<table border=\"1\" class=\"dataframe\">\n",
       "  <thead>\n",
       "    <tr style=\"text-align: right;\">\n",
       "      <th></th>\n",
       "      <th>index_val</th>\n",
       "      <th>type_val</th>\n",
       "      <th>place</th>\n",
       "      <th>short_text</th>\n",
       "      <th>real_or_fake</th>\n",
       "    </tr>\n",
       "  </thead>\n",
       "  <tbody>\n",
       "    <tr>\n",
       "      <th>48</th>\n",
       "      <td>68</td>\n",
       "      <td>ablaze</td>\n",
       "      <td>Live On Webcam</td>\n",
       "      <td>Check these out :       # nsfw</td>\n",
       "      <td>0</td>\n",
       "    </tr>\n",
       "    <tr>\n",
       "      <th>106</th>\n",
       "      <td>156</td>\n",
       "      <td>aftershock</td>\n",
       "      <td>US</td>\n",
       "      <td>320  [ IR ]  ICEMOON  [ AFTERSHOCK ]   |    | ...</td>\n",
       "      <td>0</td>\n",
       "    </tr>\n",
       "    <tr>\n",
       "      <th>114</th>\n",
       "      <td>164</td>\n",
       "      <td>aftershock</td>\n",
       "      <td>Switzerland</td>\n",
       "      <td>320  [ IR ]  ICEMOON  [ AFTERSHOCK ]   |    | ...</td>\n",
       "      <td>0</td>\n",
       "    </tr>\n",
       "    <tr>\n",
       "      <th>115</th>\n",
       "      <td>165</td>\n",
       "      <td>aftershock</td>\n",
       "      <td>US</td>\n",
       "      <td>320  [ IR ]  ICEMOON  [ AFTERSHOCK ]   |    | ...</td>\n",
       "      <td>0</td>\n",
       "    </tr>\n",
       "    <tr>\n",
       "      <th>116</th>\n",
       "      <td>168</td>\n",
       "      <td>aftershock</td>\n",
       "      <td>NaN</td>\n",
       "      <td>320  [ IR ]  ICEMOON  [ AFTERSHOCK ]   |    | ...</td>\n",
       "      <td>0</td>\n",
       "    </tr>\n",
       "    <tr>\n",
       "      <th>...</th>\n",
       "      <td>...</td>\n",
       "      <td>...</td>\n",
       "      <td>...</td>\n",
       "      <td>...</td>\n",
       "      <td>...</td>\n",
       "    </tr>\n",
       "    <tr>\n",
       "      <th>7608</th>\n",
       "      <td>10869</td>\n",
       "      <td>NaN</td>\n",
       "      <td>NaN</td>\n",
       "      <td>Two giant cranes holding a bridge collapse int...</td>\n",
       "      <td>1</td>\n",
       "    </tr>\n",
       "    <tr>\n",
       "      <th>7609</th>\n",
       "      <td>10870</td>\n",
       "      <td>NaN</td>\n",
       "      <td>NaN</td>\n",
       "      <td>@ Aria Ahrary  @ TheTawniest The out of contr...</td>\n",
       "      <td>1</td>\n",
       "    </tr>\n",
       "    <tr>\n",
       "      <th>7610</th>\n",
       "      <td>10871</td>\n",
       "      <td>NaN</td>\n",
       "      <td>NaN</td>\n",
       "      <td>M1 . 94  [ 01 : 04 UTC ]  ? 5km S of Volcano H...</td>\n",
       "      <td>1</td>\n",
       "    </tr>\n",
       "    <tr>\n",
       "      <th>7611</th>\n",
       "      <td>10872</td>\n",
       "      <td>NaN</td>\n",
       "      <td>NaN</td>\n",
       "      <td>Police investigating after an e - bike collide...</td>\n",
       "      <td>1</td>\n",
       "    </tr>\n",
       "    <tr>\n",
       "      <th>7612</th>\n",
       "      <td>10873</td>\n",
       "      <td>NaN</td>\n",
       "      <td>NaN</td>\n",
       "      <td>The Latest :  More Homes Razed by Northern Cal...</td>\n",
       "      <td>1</td>\n",
       "    </tr>\n",
       "  </tbody>\n",
       "</table>\n",
       "<p>632 rows × 5 columns</p>\n",
       "</div>"
      ],
      "text/plain": [
       "      index_val    type_val           place  \\\n",
       "48           68      ablaze  Live On Webcam   \n",
       "106         156  aftershock              US   \n",
       "114         164  aftershock     Switzerland   \n",
       "115         165  aftershock              US   \n",
       "116         168  aftershock             NaN   \n",
       "...         ...         ...             ...   \n",
       "7608      10869         NaN             NaN   \n",
       "7609      10870         NaN             NaN   \n",
       "7610      10871         NaN             NaN   \n",
       "7611      10872         NaN             NaN   \n",
       "7612      10873         NaN             NaN   \n",
       "\n",
       "                                             short_text  real_or_fake  \n",
       "48                       Check these out :       # nsfw             0  \n",
       "106   320  [ IR ]  ICEMOON  [ AFTERSHOCK ]   |    | ...             0  \n",
       "114   320  [ IR ]  ICEMOON  [ AFTERSHOCK ]   |    | ...             0  \n",
       "115   320  [ IR ]  ICEMOON  [ AFTERSHOCK ]   |    | ...             0  \n",
       "116   320  [ IR ]  ICEMOON  [ AFTERSHOCK ]   |    | ...             0  \n",
       "...                                                 ...           ...  \n",
       "7608  Two giant cranes holding a bridge collapse int...             1  \n",
       "7609   @ Aria Ahrary  @ TheTawniest The out of contr...             1  \n",
       "7610  M1 . 94  [ 01 : 04 UTC ]  ? 5km S of Volcano H...             1  \n",
       "7611  Police investigating after an e - bike collide...             1  \n",
       "7612  The Latest :  More Homes Razed by Northern Cal...             1  \n",
       "\n",
       "[632 rows x 5 columns]"
      ]
     },
     "execution_count": 10,
     "metadata": {},
     "output_type": "execute_result"
    }
   ],
   "source": [
    "# check for duplicates in `short_text`\n",
    "\n",
    "df[df.duplicated(subset=['short_text'])]\n",
    "\n",
    "# 632 duplicates is a lot. Let's check if the duplicates were consistently classified as real or fake "
   ]
  },
  {
   "cell_type": "code",
   "execution_count": 11,
   "metadata": {},
   "outputs": [
    {
     "data": {
      "text/html": [
       "<div>\n",
       "<style scoped>\n",
       "    .dataframe tbody tr th:only-of-type {\n",
       "        vertical-align: middle;\n",
       "    }\n",
       "\n",
       "    .dataframe tbody tr th {\n",
       "        vertical-align: top;\n",
       "    }\n",
       "\n",
       "    .dataframe thead th {\n",
       "        text-align: right;\n",
       "    }\n",
       "</style>\n",
       "<table border=\"1\" class=\"dataframe\">\n",
       "  <thead>\n",
       "    <tr style=\"text-align: right;\">\n",
       "      <th></th>\n",
       "      <th>index_val</th>\n",
       "      <th>real_or_fake</th>\n",
       "    </tr>\n",
       "    <tr>\n",
       "      <th>short_text</th>\n",
       "      <th></th>\n",
       "      <th></th>\n",
       "    </tr>\n",
       "  </thead>\n",
       "  <tbody>\n",
       "    <tr>\n",
       "      <th>\\nANOTHER DISASTER WAITING TO HAPPEN AND YOUR ALLOWING IT ?</th>\n",
       "      <td>7255.0</td>\n",
       "      <td>1.0</td>\n",
       "    </tr>\n",
       "    <tr>\n",
       "      <th>\\nCROYDON RIOTS -  The Next Day :  Burning Buildings in High Street  &amp;  crowds at Reeves Corner\\nCroydonization\\nAugust 2011</th>\n",
       "      <td>1770.0</td>\n",
       "      <td>1.0</td>\n",
       "    </tr>\n",
       "    <tr>\n",
       "      <th>\\nSON OF SAVIOR LAVA VIDEO</th>\n",
       "      <td>6724.0</td>\n",
       "      <td>0.0</td>\n",
       "    </tr>\n",
       "    <tr>\n",
       "      <th>\\nSeems they declared war against government .</th>\n",
       "      <td>6455.0</td>\n",
       "      <td>1.0</td>\n",
       "    </tr>\n",
       "    <tr>\n",
       "      <th># ArtisteOfTheWeekFact say  # Conversations by  # coast2coastdjs agree  @ Crystal_Blaz  ' s  # Jiwonle is a  # HipHop  # ClubBanger</th>\n",
       "      <td>978.0</td>\n",
       "      <td>0.0</td>\n",
       "    </tr>\n",
       "    <tr>\n",
       "      <th>...</th>\n",
       "      <td>...</td>\n",
       "      <td>...</td>\n",
       "    </tr>\n",
       "    <tr>\n",
       "      <th>you wrecked my whole world</th>\n",
       "      <td>10811.0</td>\n",
       "      <td>0.0</td>\n",
       "    </tr>\n",
       "    <tr>\n",
       "      <th>~ More wicked weather rolls through Calgary and surrounding areas</th>\n",
       "      <td>5847.0</td>\n",
       "      <td>1.0</td>\n",
       "    </tr>\n",
       "    <tr>\n",
       "      <th>~Still echoes of their screams~</th>\n",
       "      <td>8560.0</td>\n",
       "      <td>0.0</td>\n",
       "    </tr>\n",
       "    <tr>\n",
       "      <th>å¤ }  New Ladies Shoulder Tote  # Handbag Faux Leather Hobo Purse Cross Body Bag  # Womens   RT en</th>\n",
       "      <td>1394.0</td>\n",
       "      <td>0.0</td>\n",
       "    </tr>\n",
       "    <tr>\n",
       "      <th>å¬ ' Only the sea knows how many are dead '   @ MSF_Sea after last disaster in  # Mediterranean turned into a massgrave</th>\n",
       "      <td>4006.0</td>\n",
       "      <td>1.0</td>\n",
       "    </tr>\n",
       "  </tbody>\n",
       "</table>\n",
       "<p>6981 rows × 2 columns</p>\n",
       "</div>"
      ],
      "text/plain": [
       "                                                    index_val  real_or_fake\n",
       "short_text                                                                 \n",
       "\\nANOTHER DISASTER WAITING TO HAPPEN AND YOUR A...     7255.0           1.0\n",
       "\\nCROYDON RIOTS -  The Next Day :  Burning Buil...     1770.0           1.0\n",
       "\\nSON OF SAVIOR LAVA VIDEO                             6724.0           0.0\n",
       " \\nSeems they declared war against government .        6455.0           1.0\n",
       "  # ArtisteOfTheWeekFact say  # Conversations b...      978.0           0.0\n",
       "...                                                       ...           ...\n",
       "you wrecked my whole world                            10811.0           0.0\n",
       "~ More wicked weather rolls through Calgary and...     5847.0           1.0\n",
       "~Still echoes of their screams~                        8560.0           0.0\n",
       "å¤ }  New Ladies Shoulder Tote  # Handbag Faux ...     1394.0           0.0\n",
       "å¬ ' Only the sea knows how many are dead '   @...     4006.0           1.0\n",
       "\n",
       "[6981 rows x 2 columns]"
      ]
     },
     "execution_count": 11,
     "metadata": {},
     "output_type": "execute_result"
    }
   ],
   "source": [
    "dupes_mean = df.groupby('short_text').mean()\n",
    "dupes_mean\n",
    "# if the mean is not 0 or 1, then that means that `real_or_fake` was inconsistent between duplicates\n",
    "# let's drop the inconsistencies for now. \n",
    "# but in reality we would be double checking 1) why duplicates occurred (scraping or API issue?) and 2) why were they categorized differently?"
   ]
  },
  {
   "cell_type": "code",
   "execution_count": 12,
   "metadata": {},
   "outputs": [],
   "source": [
    "remove_text = dupes_mean.query(\"real_or_fake != 1 & real_or_fake != 0\").reset_index()['short_text'].to_list()"
   ]
  },
  {
   "cell_type": "code",
   "execution_count": 13,
   "metadata": {},
   "outputs": [
    {
     "data": {
      "text/plain": [
       "66"
      ]
     },
     "execution_count": 13,
     "metadata": {},
     "output_type": "execute_result"
    }
   ],
   "source": [
    "len(remove_text)\n",
    "# 66 lines of text need to be removed due to inconsistent classification"
   ]
  },
  {
   "cell_type": "code",
   "execution_count": 14,
   "metadata": {},
   "outputs": [
    {
     "data": {
      "text/html": [
       "<div>\n",
       "<style scoped>\n",
       "    .dataframe tbody tr th:only-of-type {\n",
       "        vertical-align: middle;\n",
       "    }\n",
       "\n",
       "    .dataframe tbody tr th {\n",
       "        vertical-align: top;\n",
       "    }\n",
       "\n",
       "    .dataframe thead th {\n",
       "        text-align: right;\n",
       "    }\n",
       "</style>\n",
       "<table border=\"1\" class=\"dataframe\">\n",
       "  <thead>\n",
       "    <tr style=\"text-align: right;\">\n",
       "      <th></th>\n",
       "      <th>index_val</th>\n",
       "      <th>type_val</th>\n",
       "      <th>place</th>\n",
       "      <th>short_text</th>\n",
       "      <th>real_or_fake</th>\n",
       "    </tr>\n",
       "  </thead>\n",
       "  <tbody>\n",
       "    <tr>\n",
       "      <th>0</th>\n",
       "      <td>1</td>\n",
       "      <td>NaN</td>\n",
       "      <td>NaN</td>\n",
       "      <td>Our Deeds are the Reason of this  # earthquake...</td>\n",
       "      <td>1</td>\n",
       "    </tr>\n",
       "    <tr>\n",
       "      <th>1</th>\n",
       "      <td>4</td>\n",
       "      <td>NaN</td>\n",
       "      <td>NaN</td>\n",
       "      <td>Forest fire near La Ronge Sask .  Canada</td>\n",
       "      <td>1</td>\n",
       "    </tr>\n",
       "    <tr>\n",
       "      <th>2</th>\n",
       "      <td>5</td>\n",
       "      <td>NaN</td>\n",
       "      <td>NaN</td>\n",
       "      <td>All residents asked to  ' shelter in place '  ...</td>\n",
       "      <td>1</td>\n",
       "    </tr>\n",
       "    <tr>\n",
       "      <th>3</th>\n",
       "      <td>6</td>\n",
       "      <td>NaN</td>\n",
       "      <td>NaN</td>\n",
       "      <td>13,000 people receive  # wildfires evacuation ...</td>\n",
       "      <td>1</td>\n",
       "    </tr>\n",
       "    <tr>\n",
       "      <th>4</th>\n",
       "      <td>7</td>\n",
       "      <td>NaN</td>\n",
       "      <td>NaN</td>\n",
       "      <td>Just got sent this photo from Ruby  # Alaska a...</td>\n",
       "      <td>1</td>\n",
       "    </tr>\n",
       "    <tr>\n",
       "      <th>...</th>\n",
       "      <td>...</td>\n",
       "      <td>...</td>\n",
       "      <td>...</td>\n",
       "      <td>...</td>\n",
       "      <td>...</td>\n",
       "    </tr>\n",
       "    <tr>\n",
       "      <th>7608</th>\n",
       "      <td>10869</td>\n",
       "      <td>NaN</td>\n",
       "      <td>NaN</td>\n",
       "      <td>Two giant cranes holding a bridge collapse int...</td>\n",
       "      <td>1</td>\n",
       "    </tr>\n",
       "    <tr>\n",
       "      <th>7609</th>\n",
       "      <td>10870</td>\n",
       "      <td>NaN</td>\n",
       "      <td>NaN</td>\n",
       "      <td>@ Aria Ahrary  @ TheTawniest The out of contr...</td>\n",
       "      <td>1</td>\n",
       "    </tr>\n",
       "    <tr>\n",
       "      <th>7610</th>\n",
       "      <td>10871</td>\n",
       "      <td>NaN</td>\n",
       "      <td>NaN</td>\n",
       "      <td>M1 . 94  [ 01 : 04 UTC ]  ? 5km S of Volcano H...</td>\n",
       "      <td>1</td>\n",
       "    </tr>\n",
       "    <tr>\n",
       "      <th>7611</th>\n",
       "      <td>10872</td>\n",
       "      <td>NaN</td>\n",
       "      <td>NaN</td>\n",
       "      <td>Police investigating after an e - bike collide...</td>\n",
       "      <td>1</td>\n",
       "    </tr>\n",
       "    <tr>\n",
       "      <th>7612</th>\n",
       "      <td>10873</td>\n",
       "      <td>NaN</td>\n",
       "      <td>NaN</td>\n",
       "      <td>The Latest :  More Homes Razed by Northern Cal...</td>\n",
       "      <td>1</td>\n",
       "    </tr>\n",
       "  </tbody>\n",
       "</table>\n",
       "<p>7382 rows × 5 columns</p>\n",
       "</div>"
      ],
      "text/plain": [
       "      index_val type_val place  \\\n",
       "0             1      NaN   NaN   \n",
       "1             4      NaN   NaN   \n",
       "2             5      NaN   NaN   \n",
       "3             6      NaN   NaN   \n",
       "4             7      NaN   NaN   \n",
       "...         ...      ...   ...   \n",
       "7608      10869      NaN   NaN   \n",
       "7609      10870      NaN   NaN   \n",
       "7610      10871      NaN   NaN   \n",
       "7611      10872      NaN   NaN   \n",
       "7612      10873      NaN   NaN   \n",
       "\n",
       "                                             short_text  real_or_fake  \n",
       "0     Our Deeds are the Reason of this  # earthquake...             1  \n",
       "1              Forest fire near La Ronge Sask .  Canada             1  \n",
       "2     All residents asked to  ' shelter in place '  ...             1  \n",
       "3     13,000 people receive  # wildfires evacuation ...             1  \n",
       "4     Just got sent this photo from Ruby  # Alaska a...             1  \n",
       "...                                                 ...           ...  \n",
       "7608  Two giant cranes holding a bridge collapse int...             1  \n",
       "7609   @ Aria Ahrary  @ TheTawniest The out of contr...             1  \n",
       "7610  M1 . 94  [ 01 : 04 UTC ]  ? 5km S of Volcano H...             1  \n",
       "7611  Police investigating after an e - bike collide...             1  \n",
       "7612  The Latest :  More Homes Razed by Northern Cal...             1  \n",
       "\n",
       "[7382 rows x 5 columns]"
      ]
     },
     "execution_count": 14,
     "metadata": {},
     "output_type": "execute_result"
    }
   ],
   "source": [
    "df.query('short_text not in @remove_text', inplace=True)\n",
    "df\n",
    "\n",
    "# Shouldn't necessarily remove duplicates because retweets contain information too"
   ]
  },
  {
   "cell_type": "code",
   "execution_count": 15,
   "metadata": {},
   "outputs": [],
   "source": [
    "# we need to be able to grab contractions and expand them\n",
    "# the raw data has a space to separate the word \"can't\" => \"can ' t\"\n",
    "df['short_text'] = df['short_text'].str.replace(\" ' \", \"'\") # make the contractions again\n",
    "df['short_text'] = df['short_text'].apply(lambda x: contractions.fix(x)) # expand contractions"
   ]
  },
  {
   "cell_type": "code",
   "execution_count": 16,
   "metadata": {},
   "outputs": [],
   "source": [
    "# now we removed input with inconsistent real_or_fake\n",
    "# lets keep cleaning\n",
    "\n",
    "df['clean_text'] = df['short_text'].apply(lambda x: x.translate(str.maketrans('', '', string.punctuation)))\n",
    "df['clean_text'] = df['clean_text'].str.replace('\\s+', ' ', regex=True) # remove multiple spaces"
   ]
  },
  {
   "cell_type": "code",
   "execution_count": 17,
   "metadata": {},
   "outputs": [],
   "source": [
    "df['lower_clean_text'] = df['clean_text'].str.lower()\n",
    "df['spell_checked_text'] = df['lower_clean_text'] "
   ]
  },
  {
   "cell_type": "code",
   "execution_count": 18,
   "metadata": {},
   "outputs": [
    {
     "data": {
      "text/plain": [
       "0       our deeds are the reason of this earthquake ma...\n",
       "1                   forest fire near la ronge sask canada\n",
       "2       all residents asked to shelter in place are be...\n",
       "3       13000 people receive wildfires evacuation orde...\n",
       "4       just got sent this photo from ruby alaska as s...\n",
       "                              ...                        \n",
       "7608    two giant cranes holding a bridge collapse int...\n",
       "7609     aria ahrary thetawniest the out of control wi...\n",
       "7610             m1 94 01 04 utc 5km s of volcano hawaii \n",
       "7611    police investigating after an e bike collided ...\n",
       "7612    the latest more homes razed by northern califo...\n",
       "Name: spell_checked_text, Length: 7382, dtype: object"
      ]
     },
     "execution_count": 18,
     "metadata": {},
     "output_type": "execute_result"
    }
   ],
   "source": [
    "spell = SpellChecker()\n",
    "\n",
    "df['spell_checked_text'].apply(lambda x: spell.correction(x))"
   ]
  },
  {
   "cell_type": "code",
   "execution_count": 19,
   "metadata": {},
   "outputs": [],
   "source": [
    "# let's remove some stopwards\n",
    "\n",
    "df['super_clean_text'] = df['spell_checked_text'].apply(lambda x: [item for item in x.split(' ') if item not in STOPWORDS])\n",
    "df['super_clean_text'] = df['super_clean_text'].apply(lambda strings: [x for x in strings if x]) # remove empty strings\n"
   ]
  },
  {
   "cell_type": "code",
   "execution_count": 20,
   "metadata": {},
   "outputs": [],
   "source": [
    "df['temp_docs'] = df['super_clean_text'].str.join(' ').apply(lambda x: nlp(x))\n",
    "df['lemmatized_text'] = df['temp_docs'].apply(lambda x: \" \".join([token.lemma_ for token in x]))"
   ]
  },
  {
   "cell_type": "code",
   "execution_count": 21,
   "metadata": {},
   "outputs": [],
   "source": [
    "df['lemmatized_text'] = df['lemmatized_text'].apply(lambda s: ''.join([i for i in s if not i.isdigit()])) # remove numbers\n",
    "df['lemmatized_text'] = df['lemmatized_text'].str.split(' ') "
   ]
  },
  {
   "cell_type": "code",
   "execution_count": 22,
   "metadata": {},
   "outputs": [],
   "source": [
    "df['lemmatized_text'] = df['lemmatized_text'].apply(lambda s: ' '.join([i for i in s if len(s) > 1])) # remove strings that are 0 or 1 again"
   ]
  },
  {
   "cell_type": "code",
   "execution_count": 23,
   "metadata": {},
   "outputs": [],
   "source": [
    "df['lemmatized_text'] = df['lemmatized_text'].str.replace('\\s+', ' ', regex=True) # remove multiple spaces"
   ]
  },
  {
   "cell_type": "markdown",
   "metadata": {},
   "source": [
    "## EDA Generation"
   ]
  },
  {
   "cell_type": "code",
   "execution_count": 24,
   "metadata": {},
   "outputs": [],
   "source": [
    "def generate_ngrams(text, n_gram=1):\n",
    "    token = [token for token in text.lower().split(' ') if token != '' if token not in STOPWORDS]\n",
    "    ngrams = zip(*[token[i:] for i in range(n_gram)])\n",
    "    return [' '.join(ngram) for ngram in ngrams]\n",
    "\n",
    "# Unigrams\n",
    "real_unigrams = defaultdict(int)\n",
    "fake_unigrams = defaultdict(int)\n",
    "\n",
    "real_bigrams = defaultdict(int)\n",
    "fake_bigrams = defaultdict(int)\n",
    "\n",
    "real_trigrams = defaultdict(int)\n",
    "fake_trigrams = defaultdict(int)\n",
    "\n",
    "for text in df.query(\"real_or_fake == 1\")['spell_checked_text']:\n",
    "    for word in generate_ngrams(text, n_gram=1):\n",
    "        real_unigrams[word] += 1\n",
    "    for word in generate_ngrams(text, n_gram=2):\n",
    "        real_bigrams[word] += 1\n",
    "    for word in generate_ngrams(text, n_gram=3):\n",
    "        real_trigrams[word] += 1\n",
    "        \n",
    "for text in df.query(\"real_or_fake == 0\")['spell_checked_text']:\n",
    "    for word in generate_ngrams(text, n_gram=1):\n",
    "        fake_unigrams[word] += 1\n",
    "    for word in generate_ngrams(text, n_gram=2):\n",
    "        fake_bigrams[word] += 1\n",
    "    for word in generate_ngrams(text, n_gram=3):\n",
    "        fake_trigrams[word] += 1\n",
    "\n",
    "def create_df_from_sorted_dct(dct): \n",
    "    df = pd.DataFrame(sorted(dct.items(), key=lambda x: x[1])[::-1])\n",
    "    df.columns = ['ngram', 'frequency']\n",
    "    df = df.iloc[:20] # just take the top 20 words\n",
    "    return df"
   ]
  },
  {
   "cell_type": "code",
   "execution_count": 25,
   "metadata": {},
   "outputs": [],
   "source": [
    "df_real_uni = create_df_from_sorted_dct(real_unigrams)\n",
    "df_fake_uni = create_df_from_sorted_dct(fake_unigrams)\n",
    "\n",
    "df_real_bi = create_df_from_sorted_dct(real_bigrams)\n",
    "df_fake_bi = create_df_from_sorted_dct(fake_bigrams)\n",
    "\n",
    "df_real_tri = create_df_from_sorted_dct(real_trigrams)\n",
    "df_fake_tri = create_df_from_sorted_dct(fake_trigrams)"
   ]
  },
  {
   "cell_type": "code",
   "execution_count": 26,
   "metadata": {},
   "outputs": [
    {
     "data": {
      "text/plain": [
       "<AxesSubplot:xlabel='frequency', ylabel='ngram'>"
      ]
     },
     "execution_count": 26,
     "metadata": {},
     "output_type": "execute_result"
    },
    {
     "data": {
      "image/png": "[encoded data removed]",
      "text/plain": [
       "<Figure size 432x288 with 1 Axes>"
      ]
     },
     "metadata": {
      "needs_background": "light"
     },
     "output_type": "display_data"
    }
   ],
   "source": [
    "# Real Unigram\n",
    "sns.barplot(y = 'ngram', x = 'frequency', data = df_real_uni)"
   ]
  },
  {
   "cell_type": "code",
   "execution_count": 27,
   "metadata": {},
   "outputs": [
    {
     "data": {
      "text/plain": [
       "<AxesSubplot:xlabel='frequency', ylabel='ngram'>"
      ]
     },
     "execution_count": 27,
     "metadata": {},
     "output_type": "execute_result"
    },
    {
     "data": {
      "image/png": "[encoded data removed]",
      "text/plain": [
       "<Figure size 432x288 with 1 Axes>"
      ]
     },
     "metadata": {
      "needs_background": "light"
     },
     "output_type": "display_data"
    }
   ],
   "source": [
    "# Fake Unigram\n",
    "sns.barplot(y = 'ngram', x = 'frequency', data = df_fake_uni)"
   ]
  },
  {
   "cell_type": "code",
   "execution_count": 28,
   "metadata": {},
   "outputs": [
    {
     "data": {
      "text/plain": [
       "0       [deed, reason, earthquake, may, allah, forgive...\n",
       "1           [forest, fire, near, la, ronge, sask, canada]\n",
       "2       [resident, ask, shelter, place, notify, office...\n",
       "3       [, people, receive, wildfire, evacuation, orde...\n",
       "4       [got, send, photo, ruby, alaska, smoke, wildfi...\n",
       "                              ...                        \n",
       "7608    [two, giant, crane, hold, bridge, collapse, ne...\n",
       "7609    [aria, ahrary, thetawni, control, wild, fire, ...\n",
       "7610                     [m, utc, km, s, volcano, hawaii]\n",
       "7611    [police, investigate, e, bike, collide, car, l...\n",
       "7612    [late, home, raze, northern, california, wildf...\n",
       "Name: lemmatized_text, Length: 7382, dtype: object"
      ]
     },
     "execution_count": 28,
     "metadata": {},
     "output_type": "execute_result"
    }
   ],
   "source": [
    "df['lemmatized_text'].apply(lambda x: x.split(' '))"
   ]
  },
  {
   "cell_type": "markdown",
   "metadata": {},
   "source": [
    "#### Individual Topic Modeling from using GSDMM\n",
    "-  Gibbs sampling algorithm for a Dirichlet Mixture Model is more appropriate for short text and matches our assumption that there should only be one topic per row"
   ]
  },
  {
   "cell_type": "code",
   "execution_count": 29,
   "metadata": {},
   "outputs": [
    {
     "name": "stdout",
     "output_type": "stream",
     "text": [
      "In stage 0: transferred 5867 clusters with 15 clusters populated\n",
      "In stage 1: transferred 2975 clusters with 15 clusters populated\n",
      "In stage 2: transferred 2131 clusters with 15 clusters populated\n",
      "In stage 3: transferred 1802 clusters with 15 clusters populated\n",
      "In stage 4: transferred 1644 clusters with 15 clusters populated\n",
      "In stage 5: transferred 1582 clusters with 15 clusters populated\n",
      "In stage 6: transferred 1381 clusters with 15 clusters populated\n",
      "In stage 7: transferred 1311 clusters with 15 clusters populated\n",
      "In stage 8: transferred 1248 clusters with 15 clusters populated\n",
      "In stage 9: transferred 1247 clusters with 15 clusters populated\n",
      "In stage 10: transferred 1235 clusters with 15 clusters populated\n",
      "In stage 11: transferred 1254 clusters with 15 clusters populated\n",
      "In stage 12: transferred 1217 clusters with 15 clusters populated\n",
      "In stage 13: transferred 1155 clusters with 15 clusters populated\n",
      "In stage 14: transferred 1123 clusters with 15 clusters populated\n"
     ]
    }
   ],
   "source": [
    "# input needs to be a list of lists of string\n",
    "lst_strings = df['lemmatized_text'].apply(lambda x: x.split(' '))\n",
    "gsdmm_docs = [list(filter(None, lst)) for lst in lst_strings] # remove blank strings\n",
    "gsdmm_docs = [x for x in gsdmm_docs if len(x) > 2]\n",
    "\n",
    "# create dictionary of all words in all documents\n",
    "gsdmm_dct = gensim.corpora.Dictionary(gsdmm_docs)\n",
    "\n",
    "# filter extreme cases out of dictionary\n",
    "gsdmm_dct.filter_extremes(no_below=15, no_above=0.5, keep_n=100000)\n",
    "\n",
    "# create variable containing length of dictionary/vocab\n",
    "vocab_length = len(gsdmm_dct)\n",
    "\n",
    "# create bag of words dictionary\n",
    "bow_corpus = [gsdmm_dct.doc2bow(doc) for doc in gsdmm_docs]\n",
    "\n",
    "# initialize GSDMM\n",
    "# arbitrary hyperparameters here, assume 15 clusters\n",
    "gsdmm = MovieGroupProcess(K=15, alpha=0.5, beta=0.1, n_iters=15)\n",
    "# Alpha controls the probability that a student will join a table that is currently empty\n",
    "# beta: Beta controls the student's affinity for other students with similar interests. Low means higher affinity and less on popularity\n",
    "\n",
    "# fit GSDMM model\n",
    "gsdmm_out = gsdmm.fit(gsdmm_docs, vocab_length)"
   ]
  },
  {
   "cell_type": "code",
   "execution_count": 30,
   "metadata": {},
   "outputs": [
    {
     "name": "stdout",
     "output_type": "stream",
     "text": [
      "Number of documents per topic : [ 453  385  421 1118  391  336  443  412  637  429  404  381  522  465\n",
      "  380]\n",
      "Most important clusters (by number of docs inside): [ 3  8 12 13  0  6  9  2  7 10  4  1 11 14  5]\n",
      "\n",
      "Cluster 3 : [('go', 133), ('will', 84), ('one', 75), ('see', 69), ('get', 57), ('body', 57), ('want', 56), ('day', 53), ('make', 53), ('come', 53), ('let', 48), ('know', 47), ('we', 44), ('think', 44), ('now', 44), ('look', 44), ('say', 43), ('love', 43), ('time', 43), ('back', 42)]\n",
      "\n",
      "Cluster 8 : [('fire', 42), ('will', 39), ('first', 35), ('get', 33), ('new', 33), ('go', 30), ('god', 28), ('now', 27), ('video', 27), ('man', 26), ('burn', 26), ('love', 26), ('good', 26), ('help', 25), ('know', 25), ('day', 25), ('one', 24), ('back', 22), ('injury', 22), ('take', 22)]\n",
      "\n",
      "Cluster 12 : [('will', 44), ('go', 39), ('mudslide', 34), ('fire', 32), ('people', 30), ('see', 29), ('want', 29), ('building', 26), ('burn', 26), ('love', 26), ('one', 25), ('feel', 24), ('thing', 24), ('look', 23), ('time', 22), ('say', 22), ('make', 22), ('issue', 21), ('attack', 19), ('come', 19)]\n",
      "\n",
      "Cluster 13 : [('emergency', 60), ('train', 56), ('fire', 51), ('derail', 47), ('service', 41), ('wreck', 35), ('flood', 32), ('car', 30), ('two', 30), ('crash', 28), ('accident', 24), ('work', 24), ('new', 23), ('job', 23), ('road', 22), ('truck', 21), ('house', 20), ('near', 19), ('building', 19), ('news', 18)]\n",
      "\n",
      "Cluster 0 : [('storm', 52), ('burn', 34), ('will', 28), ('violent', 28), ('destroy', 25), ('typhoon', 25), ('building', 24), ('black', 23), ('crush', 23), ('ur', 20), ('soudelor', 20), ('fire', 19), ('take', 19), ('life', 18), ('flood', 18), ('one', 17), ('time', 16), ('dead', 15), ('via', 15), ('eye', 14)]\n",
      "\n",
      "Cluster 6 : [('family', 57), ('mass', 55), ('legionnaire', 47), ('fatal', 46), ('year', 43), ('charge', 40), ('murder', 37), ('outbreak', 37), ('old', 31), ('murderer', 29), ('affect', 29), ('boy', 28), ('sue', 28), ('people', 25), ('news', 24), ('manslaughter', 23), ('death', 22), ('sensor', 22), ('school', 22), ('police', 21)]\n",
      "\n",
      "Cluster 9 : [('deal', 29), ('accident', 27), ('airplane', 24), ('s', 24), ('iran', 23), ('famine', 23), ('weapon', 23), ('death', 22), ('food', 22), ('nuclear', 21), ('russian', 19), ('will', 18), ('new', 18), ('attack', 18), ('expert', 17), ('man', 16), ('memory', 16), ('hostage', 16), ('traffic', 15), ('find', 15)]\n",
      "\n",
      "Cluster 2 : [('collapse', 56), ('will', 41), ('disaster', 40), ('now', 29), ('bridge', 28), ('reddit', 26), ('home', 23), ('take', 21), ('nuclear', 21), ('quarantine', 21), ('natural', 21), ('hold', 20), ('content', 20), ('story', 19), ('hostage', 19), ('via', 17), ('another', 16), ('make', 15), ('two', 15), ('video', 14)]\n",
      "\n",
      "Cluster 7 : [('scream', 38), ('live', 32), ('bomb', 31), ('see', 29), ('long', 28), ('hear', 28), ('fedex', 27), ('news', 26), ('loud', 26), ('ass', 24), ('tragedy', 23), ('bang', 23), ('call', 22), ('still', 22), ('break', 22), ('bioterror', 21), ('devastation', 20), ('blast', 20), ('will', 19), ('wind', 19)]\n",
      "\n",
      "Cluster 10 : [('body', 67), ('bag', 52), ('thunderstorm', 50), ('migrant', 46), ('weather', 43), ('pm', 41), ('cross', 38), ('watch', 36), ('hundred', 36), ('severe', 35), ('storm', 32), ('calgary', 31), ('rescuer', 30), ('search', 29), ('pick', 28), ('sandstorm', 28), ('news', 27), ('shoulder', 27), ('hail', 26), ('boat', 25)]\n",
      "\n",
      "Cluster 4 : [('kill', 72), ('suicide', 71), ('hiroshima', 61), ('bombing', 57), ('bomb', 46), ('saudi', 38), ('crash', 37), ('mosque', 35), ('atomic', 33), ('bomber', 32), ('attack', 31), ('earthquake', 27), ('s', 25), ('sinkhole', 25), ('japan', 24), ('utc', 23), ('km', 23), ('time', 22), ('th', 22), ('year', 21)]\n",
      "\n",
      "Cluster 1 : [('youtube', 64), ('video', 62), ('via', 35), ('like', 32), ('fire', 29), ('beyonce', 17), ('two', 17), ('war', 16), ('official', 16), ('refugee', 16), ('injure', 15), ('hijack', 15), ('fatality', 15), ('home', 14), ('building', 14), ('add', 14), ('playlist', 14), ('quarantine', 14), ('s', 13), ('police', 13)]\n",
      "\n",
      "Cluster 11 : [('year', 52), ('bomb', 37), ('old', 33), ('detonate', 30), ('suicide', 30), ('army', 29), ('pkk', 29), ('bomber', 29), ('rescue', 27), ('emergency', 26), ('change', 24), ('bestnaijamade', 24), ('fire', 23), ('turkey', 23), ('trench', 23), ('release', 22), ('top', 20), ('new', 20), ('make', 20), ('deluge', 20)]\n",
      "\n",
      "Cluster 14 : [('fire', 116), ('california', 70), ('wildfire', 61), ('northern', 59), ('home', 50), ('disaster', 50), ('obama', 48), ('news', 41), ('late', 34), ('raze', 33), ('devastate', 31), ('typhoon', 29), ('declare', 28), ('save', 27), ('burn', 26), ('saipan', 25), ('sign', 24), ('new', 23), ('evacuation', 23), ('declaration', 19)]\n",
      "\n",
      "Cluster 5 : [('malaysia', 120), ('flight', 89), ('airlines', 75), ('police', 56), ('attack', 46), ('confirm', 45), ('crash', 42), ('debris', 40), ('wreckage', 38), ('investigator', 37), ('spill', 33), ('family', 33), ('oil', 33), ('reunion', 31), ('suspect', 31), ('officer', 30), ('find', 28), ('via', 28), ('news', 28), ('pm', 28)]\n"
     ]
    }
   ],
   "source": [
    "# print number of documents per topic\n",
    "doc_count = np.array(gsdmm.cluster_doc_count)\n",
    "print('Number of documents per topic :', doc_count)\n",
    "\n",
    "# Topics sorted by the number of document they are allocated to\n",
    "top_index = doc_count.argsort()[-15:][::-1]\n",
    "print('Most important clusters (by number of docs inside):', top_index)\n",
    "\n",
    "# define function to get top words per topic\n",
    "def top_words(cluster_word_distribution, top_cluster, values):\n",
    "    for cluster in top_cluster:\n",
    "        sort_dicts = sorted(cluster_word_distribution[cluster].items(), key=lambda k: k[1], reverse=True)[:values]\n",
    "        print(\"\\nCluster %s : %s\"%(cluster, sort_dicts))\n",
    "\n",
    "# get top words in topic\n",
    "top_words(gsdmm.cluster_word_distribution, top_index, 20)"
   ]
  },
  {
   "cell_type": "code",
   "execution_count": 48,
   "metadata": {},
   "outputs": [],
   "source": [
    "# finally, lets get the cluster information for each text\n",
    "df['cluster'] = df['lemmatized_text'].str.split(' ').apply(lambda x: gsdmm.choose_best_label(x)[0])"
   ]
  },
  {
   "cell_type": "code",
   "execution_count": 50,
   "metadata": {},
   "outputs": [
    {
     "data": {
      "text/plain": [
       "<AxesSubplot:xlabel='cluster', ylabel='count'>"
      ]
     },
     "execution_count": 50,
     "metadata": {},
     "output_type": "execute_result"
    },
    {
     "data": {
      "image/png": "[encoded data removed]",
      "text/plain": [
       "<Figure size 432x288 with 1 Axes>"
      ]
     },
     "metadata": {
      "needs_background": "light"
     },
     "output_type": "display_data"
    }
   ],
   "source": [
    "sns.countplot(x = 'cluster', hue='real_or_fake', data=df)\n",
    "# some clusters perform better than others. clustering needs some optimization"
   ]
  },
  {
   "cell_type": "markdown",
   "metadata": {},
   "source": [
    "##### Cluster 3 information:\n",
    "\n",
    "```\n",
    "Cluster 3 : [('go', 133), ('will', 84), ('one', 75), ('see', 69), ('get', 57), ('body', 57), ('want', 56), ('day', 53), ('make', 53), ('come', 53), ('let', 48), ('know', 47), ('we', 44), ('think', 44), ('now', 44), ('look', 44), ('say', 43), ('love', 43), ('time', 43), ('back', 42)]\n",
    "```\n",
    "\n",
    "- No event specific words, so it makes sense that it has a high number of 0 for `real_or_fake`\n",
    "\n",
    "##### Cluster 4 and 5 information:\n",
    "\n",
    "- In contrast, let's check Clusters 4 and 5, which have a relatively low number of \"fake\":\n",
    "\n",
    "```\n",
    "Cluster 4 : [('kill', 72), ('suicide', 71), ('hiroshima', 61), ('bombing', 57), ('bomb', 46), ('saudi', 38), ('crash', 37), ('mosque', 35), ('atomic', 33), ('bomber', 32), ('attack', 31), ('earthquake', 27), ('s', 25), ('sinkhole', 25), ('japan', 24), ('utc', 23), ('km', 23), ('time', 22), ('th', 22), ('year', 21)]\n",
    "\n",
    "Cluster 5 : [('malaysia', 120), ('flight', 89), ('airlines', 75), ('police', 56), ('attack', 46), ('confirm', 45), ('crash', 42), ('debris', 40), ('wreckage', 38), ('investigator', 37), ('spill', 33), ('family', 33), ('oil', 33), ('reunion', 31), ('suspect', 31), ('officer', 30), ('find', 28), ('via', 28), ('news', 28), ('pm', 28)]\n",
    "```\n",
    "\n",
    "We can see that it makes sense for these clusters have good separation between real and fake. These clusters could use some optimization, however.\n",
    "\n"
   ]
  },
  {
   "cell_type": "code",
   "execution_count": 202,
   "metadata": {},
   "outputs": [],
   "source": [
    "vocab = set()\n",
    "for s in df['temp_docs']:\n",
    "    vocab.update(set(s))"
   ]
  },
  {
   "cell_type": "code",
   "execution_count": 203,
   "metadata": {},
   "outputs": [],
   "source": [
    "vectors = []\n",
    "for token in list(vocab):\n",
    "    vectors.append(token.vector)"
   ]
  },
  {
   "cell_type": "code",
   "execution_count": 252,
   "metadata": {},
   "outputs": [
    {
     "data": {
      "text/html": [
       "<div>\n",
       "<style scoped>\n",
       "    .dataframe tbody tr th:only-of-type {\n",
       "        vertical-align: middle;\n",
       "    }\n",
       "\n",
       "    .dataframe tbody tr th {\n",
       "        vertical-align: top;\n",
       "    }\n",
       "\n",
       "    .dataframe thead th {\n",
       "        text-align: right;\n",
       "    }\n",
       "</style>\n",
       "<table border=\"1\" class=\"dataframe\">\n",
       "  <thead>\n",
       "    <tr style=\"text-align: right;\">\n",
       "      <th></th>\n",
       "      <th>aa</th>\n",
       "      <th>aaaa</th>\n",
       "      <th>aaaaaaallll</th>\n",
       "      <th>aaaaaand</th>\n",
       "      <th>aaarrrgghhh</th>\n",
       "      <th>aaceorg</th>\n",
       "      <th>aal</th>\n",
       "      <th>aan</th>\n",
       "      <th>aannnnd</th>\n",
       "      <th>aar</th>\n",
       "      <th>...</th>\n",
       "      <th>zourryart</th>\n",
       "      <th>zrnf</th>\n",
       "      <th>zss</th>\n",
       "      <th>zumiez</th>\n",
       "      <th>zurich</th>\n",
       "      <th>zxathetis</th>\n",
       "      <th>zzzz</th>\n",
       "      <th>ââ</th>\n",
       "      <th>ìñ</th>\n",
       "      <th>ìü</th>\n",
       "    </tr>\n",
       "  </thead>\n",
       "  <tbody>\n",
       "    <tr>\n",
       "      <th>0</th>\n",
       "      <td>0.0</td>\n",
       "      <td>0.0</td>\n",
       "      <td>0.0</td>\n",
       "      <td>0.0</td>\n",
       "      <td>0.0</td>\n",
       "      <td>0.0</td>\n",
       "      <td>0.0</td>\n",
       "      <td>0.0</td>\n",
       "      <td>0.0</td>\n",
       "      <td>0.0</td>\n",
       "      <td>...</td>\n",
       "      <td>0.0</td>\n",
       "      <td>0.0</td>\n",
       "      <td>0.0</td>\n",
       "      <td>0.0</td>\n",
       "      <td>0.0</td>\n",
       "      <td>0.0</td>\n",
       "      <td>0.0</td>\n",
       "      <td>0.0</td>\n",
       "      <td>0.0</td>\n",
       "      <td>0.0</td>\n",
       "    </tr>\n",
       "    <tr>\n",
       "      <th>1</th>\n",
       "      <td>0.0</td>\n",
       "      <td>0.0</td>\n",
       "      <td>0.0</td>\n",
       "      <td>0.0</td>\n",
       "      <td>0.0</td>\n",
       "      <td>0.0</td>\n",
       "      <td>0.0</td>\n",
       "      <td>0.0</td>\n",
       "      <td>0.0</td>\n",
       "      <td>0.0</td>\n",
       "      <td>...</td>\n",
       "      <td>0.0</td>\n",
       "      <td>0.0</td>\n",
       "      <td>0.0</td>\n",
       "      <td>0.0</td>\n",
       "      <td>0.0</td>\n",
       "      <td>0.0</td>\n",
       "      <td>0.0</td>\n",
       "      <td>0.0</td>\n",
       "      <td>0.0</td>\n",
       "      <td>0.0</td>\n",
       "    </tr>\n",
       "    <tr>\n",
       "      <th>2</th>\n",
       "      <td>0.0</td>\n",
       "      <td>0.0</td>\n",
       "      <td>0.0</td>\n",
       "      <td>0.0</td>\n",
       "      <td>0.0</td>\n",
       "      <td>0.0</td>\n",
       "      <td>0.0</td>\n",
       "      <td>0.0</td>\n",
       "      <td>0.0</td>\n",
       "      <td>0.0</td>\n",
       "      <td>...</td>\n",
       "      <td>0.0</td>\n",
       "      <td>0.0</td>\n",
       "      <td>0.0</td>\n",
       "      <td>0.0</td>\n",
       "      <td>0.0</td>\n",
       "      <td>0.0</td>\n",
       "      <td>0.0</td>\n",
       "      <td>0.0</td>\n",
       "      <td>0.0</td>\n",
       "      <td>0.0</td>\n",
       "    </tr>\n",
       "    <tr>\n",
       "      <th>3</th>\n",
       "      <td>0.0</td>\n",
       "      <td>0.0</td>\n",
       "      <td>0.0</td>\n",
       "      <td>0.0</td>\n",
       "      <td>0.0</td>\n",
       "      <td>0.0</td>\n",
       "      <td>0.0</td>\n",
       "      <td>0.0</td>\n",
       "      <td>0.0</td>\n",
       "      <td>0.0</td>\n",
       "      <td>...</td>\n",
       "      <td>0.0</td>\n",
       "      <td>0.0</td>\n",
       "      <td>0.0</td>\n",
       "      <td>0.0</td>\n",
       "      <td>0.0</td>\n",
       "      <td>0.0</td>\n",
       "      <td>0.0</td>\n",
       "      <td>0.0</td>\n",
       "      <td>0.0</td>\n",
       "      <td>0.0</td>\n",
       "    </tr>\n",
       "    <tr>\n",
       "      <th>4</th>\n",
       "      <td>0.0</td>\n",
       "      <td>0.0</td>\n",
       "      <td>0.0</td>\n",
       "      <td>0.0</td>\n",
       "      <td>0.0</td>\n",
       "      <td>0.0</td>\n",
       "      <td>0.0</td>\n",
       "      <td>0.0</td>\n",
       "      <td>0.0</td>\n",
       "      <td>0.0</td>\n",
       "      <td>...</td>\n",
       "      <td>0.0</td>\n",
       "      <td>0.0</td>\n",
       "      <td>0.0</td>\n",
       "      <td>0.0</td>\n",
       "      <td>0.0</td>\n",
       "      <td>0.0</td>\n",
       "      <td>0.0</td>\n",
       "      <td>0.0</td>\n",
       "      <td>0.0</td>\n",
       "      <td>0.0</td>\n",
       "    </tr>\n",
       "    <tr>\n",
       "      <th>...</th>\n",
       "      <td>...</td>\n",
       "      <td>...</td>\n",
       "      <td>...</td>\n",
       "      <td>...</td>\n",
       "      <td>...</td>\n",
       "      <td>...</td>\n",
       "      <td>...</td>\n",
       "      <td>...</td>\n",
       "      <td>...</td>\n",
       "      <td>...</td>\n",
       "      <td>...</td>\n",
       "      <td>...</td>\n",
       "      <td>...</td>\n",
       "      <td>...</td>\n",
       "      <td>...</td>\n",
       "      <td>...</td>\n",
       "      <td>...</td>\n",
       "      <td>...</td>\n",
       "      <td>...</td>\n",
       "      <td>...</td>\n",
       "      <td>...</td>\n",
       "    </tr>\n",
       "    <tr>\n",
       "      <th>7377</th>\n",
       "      <td>0.0</td>\n",
       "      <td>0.0</td>\n",
       "      <td>0.0</td>\n",
       "      <td>0.0</td>\n",
       "      <td>0.0</td>\n",
       "      <td>0.0</td>\n",
       "      <td>0.0</td>\n",
       "      <td>0.0</td>\n",
       "      <td>0.0</td>\n",
       "      <td>0.0</td>\n",
       "      <td>...</td>\n",
       "      <td>0.0</td>\n",
       "      <td>0.0</td>\n",
       "      <td>0.0</td>\n",
       "      <td>0.0</td>\n",
       "      <td>0.0</td>\n",
       "      <td>0.0</td>\n",
       "      <td>0.0</td>\n",
       "      <td>0.0</td>\n",
       "      <td>0.0</td>\n",
       "      <td>0.0</td>\n",
       "    </tr>\n",
       "    <tr>\n",
       "      <th>7378</th>\n",
       "      <td>0.0</td>\n",
       "      <td>0.0</td>\n",
       "      <td>0.0</td>\n",
       "      <td>0.0</td>\n",
       "      <td>0.0</td>\n",
       "      <td>0.0</td>\n",
       "      <td>0.0</td>\n",
       "      <td>0.0</td>\n",
       "      <td>0.0</td>\n",
       "      <td>0.0</td>\n",
       "      <td>...</td>\n",
       "      <td>0.0</td>\n",
       "      <td>0.0</td>\n",
       "      <td>0.0</td>\n",
       "      <td>0.0</td>\n",
       "      <td>0.0</td>\n",
       "      <td>0.0</td>\n",
       "      <td>0.0</td>\n",
       "      <td>0.0</td>\n",
       "      <td>0.0</td>\n",
       "      <td>0.0</td>\n",
       "    </tr>\n",
       "    <tr>\n",
       "      <th>7379</th>\n",
       "      <td>0.0</td>\n",
       "      <td>0.0</td>\n",
       "      <td>0.0</td>\n",
       "      <td>0.0</td>\n",
       "      <td>0.0</td>\n",
       "      <td>0.0</td>\n",
       "      <td>0.0</td>\n",
       "      <td>0.0</td>\n",
       "      <td>0.0</td>\n",
       "      <td>0.0</td>\n",
       "      <td>...</td>\n",
       "      <td>0.0</td>\n",
       "      <td>0.0</td>\n",
       "      <td>0.0</td>\n",
       "      <td>0.0</td>\n",
       "      <td>0.0</td>\n",
       "      <td>0.0</td>\n",
       "      <td>0.0</td>\n",
       "      <td>0.0</td>\n",
       "      <td>0.0</td>\n",
       "      <td>0.0</td>\n",
       "    </tr>\n",
       "    <tr>\n",
       "      <th>7380</th>\n",
       "      <td>0.0</td>\n",
       "      <td>0.0</td>\n",
       "      <td>0.0</td>\n",
       "      <td>0.0</td>\n",
       "      <td>0.0</td>\n",
       "      <td>0.0</td>\n",
       "      <td>0.0</td>\n",
       "      <td>0.0</td>\n",
       "      <td>0.0</td>\n",
       "      <td>0.0</td>\n",
       "      <td>...</td>\n",
       "      <td>0.0</td>\n",
       "      <td>0.0</td>\n",
       "      <td>0.0</td>\n",
       "      <td>0.0</td>\n",
       "      <td>0.0</td>\n",
       "      <td>0.0</td>\n",
       "      <td>0.0</td>\n",
       "      <td>0.0</td>\n",
       "      <td>0.0</td>\n",
       "      <td>0.0</td>\n",
       "    </tr>\n",
       "    <tr>\n",
       "      <th>7381</th>\n",
       "      <td>0.0</td>\n",
       "      <td>0.0</td>\n",
       "      <td>0.0</td>\n",
       "      <td>0.0</td>\n",
       "      <td>0.0</td>\n",
       "      <td>0.0</td>\n",
       "      <td>0.0</td>\n",
       "      <td>0.0</td>\n",
       "      <td>0.0</td>\n",
       "      <td>0.0</td>\n",
       "      <td>...</td>\n",
       "      <td>0.0</td>\n",
       "      <td>0.0</td>\n",
       "      <td>0.0</td>\n",
       "      <td>0.0</td>\n",
       "      <td>0.0</td>\n",
       "      <td>0.0</td>\n",
       "      <td>0.0</td>\n",
       "      <td>0.0</td>\n",
       "      <td>0.0</td>\n",
       "      <td>0.0</td>\n",
       "    </tr>\n",
       "  </tbody>\n",
       "</table>\n",
       "<p>7382 rows × 13964 columns</p>\n",
       "</div>"
      ],
      "text/plain": [
       "       aa  aaaa  aaaaaaallll  aaaaaand  aaarrrgghhh  aaceorg  aal  aan  \\\n",
       "0     0.0   0.0          0.0       0.0          0.0      0.0  0.0  0.0   \n",
       "1     0.0   0.0          0.0       0.0          0.0      0.0  0.0  0.0   \n",
       "2     0.0   0.0          0.0       0.0          0.0      0.0  0.0  0.0   \n",
       "3     0.0   0.0          0.0       0.0          0.0      0.0  0.0  0.0   \n",
       "4     0.0   0.0          0.0       0.0          0.0      0.0  0.0  0.0   \n",
       "...   ...   ...          ...       ...          ...      ...  ...  ...   \n",
       "7377  0.0   0.0          0.0       0.0          0.0      0.0  0.0  0.0   \n",
       "7378  0.0   0.0          0.0       0.0          0.0      0.0  0.0  0.0   \n",
       "7379  0.0   0.0          0.0       0.0          0.0      0.0  0.0  0.0   \n",
       "7380  0.0   0.0          0.0       0.0          0.0      0.0  0.0  0.0   \n",
       "7381  0.0   0.0          0.0       0.0          0.0      0.0  0.0  0.0   \n",
       "\n",
       "      aannnnd  aar  ...  zourryart  zrnf  zss  zumiez  zurich  zxathetis  \\\n",
       "0         0.0  0.0  ...        0.0   0.0  0.0     0.0     0.0        0.0   \n",
       "1         0.0  0.0  ...        0.0   0.0  0.0     0.0     0.0        0.0   \n",
       "2         0.0  0.0  ...        0.0   0.0  0.0     0.0     0.0        0.0   \n",
       "3         0.0  0.0  ...        0.0   0.0  0.0     0.0     0.0        0.0   \n",
       "4         0.0  0.0  ...        0.0   0.0  0.0     0.0     0.0        0.0   \n",
       "...       ...  ...  ...        ...   ...  ...     ...     ...        ...   \n",
       "7377      0.0  0.0  ...        0.0   0.0  0.0     0.0     0.0        0.0   \n",
       "7378      0.0  0.0  ...        0.0   0.0  0.0     0.0     0.0        0.0   \n",
       "7379      0.0  0.0  ...        0.0   0.0  0.0     0.0     0.0        0.0   \n",
       "7380      0.0  0.0  ...        0.0   0.0  0.0     0.0     0.0        0.0   \n",
       "7381      0.0  0.0  ...        0.0   0.0  0.0     0.0     0.0        0.0   \n",
       "\n",
       "      zzzz   ââ   ìñ   ìü  \n",
       "0      0.0  0.0  0.0  0.0  \n",
       "1      0.0  0.0  0.0  0.0  \n",
       "2      0.0  0.0  0.0  0.0  \n",
       "3      0.0  0.0  0.0  0.0  \n",
       "4      0.0  0.0  0.0  0.0  \n",
       "...    ...  ...  ...  ...  \n",
       "7377   0.0  0.0  0.0  0.0  \n",
       "7378   0.0  0.0  0.0  0.0  \n",
       "7379   0.0  0.0  0.0  0.0  \n",
       "7380   0.0  0.0  0.0  0.0  \n",
       "7381   0.0  0.0  0.0  0.0  \n",
       "\n",
       "[7382 rows x 13964 columns]"
      ]
     },
     "execution_count": 252,
     "metadata": {},
     "output_type": "execute_result"
    }
   ],
   "source": [
    "vect = TfidfVectorizer()\n",
    "tfidf_matrix = vect.fit_transform(df['lemmatized_text'])\n",
    "results_df = pd.DataFrame(tfidf_matrix.toarray(), columns = vect.get_feature_names_out())\n",
    "results_df"
   ]
  },
  {
   "cell_type": "code",
   "execution_count": 283,
   "metadata": {},
   "outputs": [],
   "source": [
    "cluster_array = pd.get_dummies(data = df['cluster'], columns=['cluster'])"
   ]
  },
  {
   "cell_type": "code",
   "execution_count": 286,
   "metadata": {},
   "outputs": [],
   "source": [
    "X_cluster = cluster_array.to_numpy()"
   ]
  },
  {
   "cell_type": "code",
   "execution_count": 287,
   "metadata": {},
   "outputs": [],
   "source": [
    "X_tfidf = tfidf_matrix.toarray()"
   ]
  },
  {
   "cell_type": "code",
   "execution_count": 307,
   "metadata": {},
   "outputs": [],
   "source": [
    "X = np.concatenate((X_cluster, X_tfidf), axis=1)"
   ]
  },
  {
   "cell_type": "code",
   "execution_count": 328,
   "metadata": {},
   "outputs": [],
   "source": [
    "y = df['real_or_fake']\n",
    "\n",
    "X_train, X_test, y_train, y_test = train_test_split(X, y, test_size=0.2, stratify=df['cluster'], shuffle=True)"
   ]
  },
  {
   "cell_type": "code",
   "execution_count": 330,
   "metadata": {},
   "outputs": [],
   "source": [
    "# Initialize SVM classifier\n",
    "svm_clf = svm.SVC(kernel='linear')\n",
    "svm_clf = svm_clf.fit(X_train, y_train)"
   ]
  },
  {
   "cell_type": "code",
   "execution_count": 331,
   "metadata": {},
   "outputs": [],
   "source": [
    "svm_y_pred = svm_clf.predict(X_test)"
   ]
  },
  {
   "cell_type": "code",
   "execution_count": 335,
   "metadata": {},
   "outputs": [
    {
     "name": "stderr",
     "output_type": "stream",
     "text": [
      "/Users/johntan/opt/miniconda3/lib/python3.7/site-packages/sklearn/utils/deprecation.py:87: FutureWarning: Function plot_confusion_matrix is deprecated; Function `plot_confusion_matrix` is deprecated in 1.0 and will be removed in 1.2. Use one of the class methods: ConfusionMatrixDisplay.from_predictions or ConfusionMatrixDisplay.from_estimator.\n",
      "  warnings.warn(msg, category=FutureWarning)\n"
     ]
    },
    {
     "data": {
      "image/png": "[encoded data removed]",
      "text/plain": [
       "<Figure size 432x288 with 2 Axes>"
      ]
     },
     "metadata": {
      "needs_background": "light"
     },
     "output_type": "display_data"
    }
   ],
   "source": [
    "matrix = plot_confusion_matrix(svm_clf, X_test, y_test,\n",
    "                                 cmap=plt.cm.Blues,\n",
    "                                 normalize='true')\n",
    "plt.title('Confusion matrix for our classifier')\n",
    "plt.show(matrix)\n",
    "plt.show()"
   ]
  },
  {
   "cell_type": "code",
   "execution_count": 348,
   "metadata": {},
   "outputs": [],
   "source": [
    "def metrics_fx(y_true, y_pred):\n",
    "    \n",
    "    accuracy = metrics.accuracy_score(y_true, y_pred)\n",
    "    precision = metrics.precision_score(y_true, y_pred)\n",
    "    recall = metrics.recall_score(y_true, y_pred)\n",
    "    auc = metrics.roc_auc_score(y_true, y_pred)\n",
    "    f1 = metrics.f1_score(y_true, y_pred)\n",
    "    \n",
    "    return pd.DataFrame([accuracy, precision, recall, auc, f1], index = ['Accuracy', 'Precision', 'Recall', 'AUC', 'F1'])"
   ]
  },
  {
   "cell_type": "code",
   "execution_count": 349,
   "metadata": {},
   "outputs": [
    {
     "data": {
      "text/html": [
       "<div>\n",
       "<style scoped>\n",
       "    .dataframe tbody tr th:only-of-type {\n",
       "        vertical-align: middle;\n",
       "    }\n",
       "\n",
       "    .dataframe tbody tr th {\n",
       "        vertical-align: top;\n",
       "    }\n",
       "\n",
       "    .dataframe thead th {\n",
       "        text-align: right;\n",
       "    }\n",
       "</style>\n",
       "<table border=\"1\" class=\"dataframe\">\n",
       "  <thead>\n",
       "    <tr style=\"text-align: right;\">\n",
       "      <th></th>\n",
       "      <th>0</th>\n",
       "    </tr>\n",
       "  </thead>\n",
       "  <tbody>\n",
       "    <tr>\n",
       "      <th>Accuracy</th>\n",
       "      <td>0.815166</td>\n",
       "    </tr>\n",
       "    <tr>\n",
       "      <th>Precision</th>\n",
       "      <td>0.838772</td>\n",
       "    </tr>\n",
       "    <tr>\n",
       "      <th>Recall</th>\n",
       "      <td>0.698083</td>\n",
       "    </tr>\n",
       "    <tr>\n",
       "      <th>AUC</th>\n",
       "      <td>0.799688</td>\n",
       "    </tr>\n",
       "    <tr>\n",
       "      <th>F1</th>\n",
       "      <td>0.761988</td>\n",
       "    </tr>\n",
       "  </tbody>\n",
       "</table>\n",
       "</div>"
      ],
      "text/plain": [
       "                  0\n",
       "Accuracy   0.815166\n",
       "Precision  0.838772\n",
       "Recall     0.698083\n",
       "AUC        0.799688\n",
       "F1         0.761988"
      ]
     },
     "execution_count": 349,
     "metadata": {},
     "output_type": "execute_result"
    }
   ],
   "source": [
    "metrics_fx(y_test, svm_y_pred)"
   ]
  },
  {
   "cell_type": "markdown",
   "metadata": {},
   "source": [
    "## Cross-Validation\n"
   ]
  },
  {
   "cell_type": "code",
   "execution_count": 362,
   "metadata": {},
   "outputs": [],
   "source": [
    "cv = RepeatedKFold(n_splits=10, n_repeats=3)"
   ]
  },
  {
   "cell_type": "code",
   "execution_count": 363,
   "metadata": {},
   "outputs": [],
   "source": [
    "import os\n",
    "os.environ[\"TOKENIZERS_PARALLELISM\"] = \"false\"\n",
    "\n",
    "scores = cross_val_score(svm_clf, X, y, scoring='accuracy', cv=cv, n_jobs=-1)\n",
    "print('Accuracy: %.3f (%.3f)' % (mean(scores), std(scores)))"
   ]
  },
  {
   "cell_type": "code",
   "execution_count": null,
   "metadata": {},
   "outputs": [],
   "source": []
  }
 ],
 "metadata": {
  "interpreter": {
   "hash": "e1625e0c03a7959e634b7eef092cb4d24e9513629de3e484aacca6c7ea34245e"
  },
  "kernelspec": {
   "display_name": "Python 3.9.0 ('python39')",
   "language": "python",
   "name": "python3"
  },
  "language_info": {
   "codemirror_mode": {
    "name": "ipython",
    "version": 3
   },
   "file_extension": ".py",
   "mimetype": "text/x-python",
   "name": "python",
   "nbconvert_exporter": "python",
   "pygments_lexer": "ipython3",
   "version": "3.7.11"
  },
  "orig_nbformat": 4
 },
 "nbformat": 4,
 "nbformat_minor": 2
}
